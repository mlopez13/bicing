{
 "cells": [
  {
   "cell_type": "markdown",
   "metadata": {},
   "source": [
    "# Packages"
   ]
  },
  {
   "cell_type": "code",
   "execution_count": 1,
   "metadata": {},
   "outputs": [],
   "source": [
    "import numpy as np\n",
    "import pandas as pd\n",
    "import matplotlib.pyplot as plt\n",
    "import matplotlib.gridspec as gridspec\n",
    "%matplotlib inline\n",
    "\n",
    "from datetime import datetime\n",
    "\n",
    "from sklearn.model_selection import train_test_split\n",
    "from sklearn.linear_model import LinearRegression\n",
    "from sklearn.metrics import mean_squared_error, r2_score"
   ]
  },
  {
   "cell_type": "code",
   "execution_count": null,
   "metadata": {},
   "outputs": [],
   "source": []
  },
  {
   "cell_type": "markdown",
   "metadata": {},
   "source": [
    "# Open data"
   ]
  },
  {
   "cell_type": "markdown",
   "metadata": {},
   "source": [
    "All data available at https://opendata-ajuntament.barcelona.cat/es/"
   ]
  },
  {
   "cell_type": "code",
   "execution_count": 2,
   "metadata": {},
   "outputs": [
    {
     "name": "stdout",
     "output_type": "stream",
     "text": [
      "\"station_id\",\"num_bikes_available\",\"num_bikes_available_types.mechanical\",\"num_bikes_available_types.ebike\",\"num_docks_available\",\"is_installed\",\"is_renting\",\"is_returning\",\"last_reported\",\"is_charging_station\",\"status\",\"last_updated\",\"ttl\"\r\n",
      "1,26,25,1,0,1,1,1,\"1561931759\",TRUE,\"IN_SERVICE\",1561932001,28\r\n",
      "2,23,23,0,0,1,1,1,\"1561931805\",TRUE,\"IN_SERVICE\",1561932001,28\r\n",
      "3,12,12,0,13,1,1,1,\"1561931771\",TRUE,\"IN_SERVICE\",1561932001,28\r\n",
      "4,1,1,0,18,1,1,1,\"1561931940\",TRUE,\"IN_SERVICE\",1561932001,28\r\n",
      "5,22,22,0,15,1,1,1,\"1561931919\",TRUE,\"IN_SERVICE\",1561932001,28\r\n",
      "6,13,13,0,23,1,1,1,\"1561931850\",TRUE,\"IN_SERVICE\",1561932001,28\r\n",
      "7,13,13,0,11,1,1,1,\"1561931996\",TRUE,\"IN_SERVICE\",1561932001,28\r\n",
      "8,18,18,0,8,1,1,1,\"1561931904\",TRUE,\"IN_SERVICE\",1561932001,28\r\n",
      "9,12,12,0,10,1,1,1,\"1561931936\",TRUE,\"IN_SERVICE\",1561932001,28\r\n"
     ]
    }
   ],
   "source": [
    "!head 'data/2019_07_Juliol_BicingNou_ESTACIONS.csv.part'"
   ]
  },
  {
   "cell_type": "code",
   "execution_count": 3,
   "metadata": {},
   "outputs": [
    {
     "name": "stderr",
     "output_type": "stream",
     "text": [
      "/home/mlopez13/anaconda3/lib/python3.7/site-packages/numpy/lib/arraysetops.py:569: FutureWarning: elementwise comparison failed; returning scalar instead, but in the future will perform elementwise comparison\n",
      "  mask |= (ar1 == a)\n"
     ]
    }
   ],
   "source": [
    "bicing_status = pd.read_csv('data/2019_07_Juliol_BicingNou_ESTACIONS.csv.part', index_col='station_id')\n",
    "bicing_status = bicing_status.drop(columns=['last_reported', 'ttl'])\n",
    "bicing_status.columns = ['bikes_av', 'mechbikes_av', 'ebikes_av', 'docks_av', 'is_inst', 'is_rent', 'is_retu', 'is_char',\n",
    "                       'status', 'last_updated']"
   ]
  },
  {
   "cell_type": "code",
   "execution_count": 4,
   "metadata": {},
   "outputs": [
    {
     "data": {
      "text/html": [
       "<div>\n",
       "<style scoped>\n",
       "    .dataframe tbody tr th:only-of-type {\n",
       "        vertical-align: middle;\n",
       "    }\n",
       "\n",
       "    .dataframe tbody tr th {\n",
       "        vertical-align: top;\n",
       "    }\n",
       "\n",
       "    .dataframe thead th {\n",
       "        text-align: right;\n",
       "    }\n",
       "</style>\n",
       "<table border=\"1\" class=\"dataframe\">\n",
       "  <thead>\n",
       "    <tr style=\"text-align: right;\">\n",
       "      <th></th>\n",
       "      <th>bikes_av</th>\n",
       "      <th>mechbikes_av</th>\n",
       "      <th>ebikes_av</th>\n",
       "      <th>docks_av</th>\n",
       "      <th>is_inst</th>\n",
       "      <th>is_rent</th>\n",
       "      <th>is_retu</th>\n",
       "      <th>is_char</th>\n",
       "      <th>status</th>\n",
       "      <th>last_updated</th>\n",
       "    </tr>\n",
       "    <tr>\n",
       "      <th>station_id</th>\n",
       "      <th></th>\n",
       "      <th></th>\n",
       "      <th></th>\n",
       "      <th></th>\n",
       "      <th></th>\n",
       "      <th></th>\n",
       "      <th></th>\n",
       "      <th></th>\n",
       "      <th></th>\n",
       "      <th></th>\n",
       "    </tr>\n",
       "  </thead>\n",
       "  <tbody>\n",
       "    <tr>\n",
       "      <th>1</th>\n",
       "      <td>26</td>\n",
       "      <td>25</td>\n",
       "      <td>1</td>\n",
       "      <td>0</td>\n",
       "      <td>1</td>\n",
       "      <td>1</td>\n",
       "      <td>1</td>\n",
       "      <td>True</td>\n",
       "      <td>IN_SERVICE</td>\n",
       "      <td>1561932001</td>\n",
       "    </tr>\n",
       "    <tr>\n",
       "      <th>2</th>\n",
       "      <td>23</td>\n",
       "      <td>23</td>\n",
       "      <td>0</td>\n",
       "      <td>0</td>\n",
       "      <td>1</td>\n",
       "      <td>1</td>\n",
       "      <td>1</td>\n",
       "      <td>True</td>\n",
       "      <td>IN_SERVICE</td>\n",
       "      <td>1561932001</td>\n",
       "    </tr>\n",
       "    <tr>\n",
       "      <th>3</th>\n",
       "      <td>12</td>\n",
       "      <td>12</td>\n",
       "      <td>0</td>\n",
       "      <td>13</td>\n",
       "      <td>1</td>\n",
       "      <td>1</td>\n",
       "      <td>1</td>\n",
       "      <td>True</td>\n",
       "      <td>IN_SERVICE</td>\n",
       "      <td>1561932001</td>\n",
       "    </tr>\n",
       "    <tr>\n",
       "      <th>4</th>\n",
       "      <td>1</td>\n",
       "      <td>1</td>\n",
       "      <td>0</td>\n",
       "      <td>18</td>\n",
       "      <td>1</td>\n",
       "      <td>1</td>\n",
       "      <td>1</td>\n",
       "      <td>True</td>\n",
       "      <td>IN_SERVICE</td>\n",
       "      <td>1561932001</td>\n",
       "    </tr>\n",
       "    <tr>\n",
       "      <th>5</th>\n",
       "      <td>22</td>\n",
       "      <td>22</td>\n",
       "      <td>0</td>\n",
       "      <td>15</td>\n",
       "      <td>1</td>\n",
       "      <td>1</td>\n",
       "      <td>1</td>\n",
       "      <td>True</td>\n",
       "      <td>IN_SERVICE</td>\n",
       "      <td>1561932001</td>\n",
       "    </tr>\n",
       "  </tbody>\n",
       "</table>\n",
       "</div>"
      ],
      "text/plain": [
       "            bikes_av  mechbikes_av  ebikes_av  docks_av  is_inst  is_rent  \\\n",
       "station_id                                                                  \n",
       "1                 26            25          1         0        1        1   \n",
       "2                 23            23          0         0        1        1   \n",
       "3                 12            12          0        13        1        1   \n",
       "4                  1             1          0        18        1        1   \n",
       "5                 22            22          0        15        1        1   \n",
       "\n",
       "            is_retu  is_char      status  last_updated  \n",
       "station_id                                              \n",
       "1                 1     True  IN_SERVICE    1561932001  \n",
       "2                 1     True  IN_SERVICE    1561932001  \n",
       "3                 1     True  IN_SERVICE    1561932001  \n",
       "4                 1     True  IN_SERVICE    1561932001  \n",
       "5                 1     True  IN_SERVICE    1561932001  "
      ]
     },
     "execution_count": 4,
     "metadata": {},
     "output_type": "execute_result"
    }
   ],
   "source": [
    "bicing_status.head()"
   ]
  },
  {
   "cell_type": "code",
   "execution_count": 5,
   "metadata": {},
   "outputs": [
    {
     "data": {
      "text/plain": [
       "array([1561932001, 1561932278, 1561932596, ..., 1564609502, 1564609806,\n",
       "       1564610089])"
      ]
     },
     "execution_count": 5,
     "metadata": {},
     "output_type": "execute_result"
    }
   ],
   "source": [
    "bicing_status['last_updated'].unique()"
   ]
  },
  {
   "cell_type": "code",
   "execution_count": 6,
   "metadata": {
    "scrolled": true
   },
   "outputs": [
    {
     "name": "stdout",
     "output_type": "stream",
     "text": [
      "last updated at:  2019-07-01 00:00:01\n",
      "last updated at:  2019-07-01 00:04:38\n",
      "last updated at:  2019-07-01 00:09:56\n",
      "...\n",
      "last updated at:  2019-07-31 23:45:02\n",
      "last updated at:  2019-07-31 23:50:06\n",
      "last updated at:  2019-07-31 23:54:49\n"
     ]
    }
   ],
   "source": [
    "ts_list = sorted(bicing_status['last_updated'].unique())\n",
    "\n",
    "for ts in ts_list[:3]:\n",
    "    print('last updated at: ', datetime.fromtimestamp(ts))\n",
    "\n",
    "print('...')\n",
    "\n",
    "for ts in ts_list[-3:]:\n",
    "    print('last updated at: ', datetime.fromtimestamp(ts))"
   ]
  },
  {
   "cell_type": "markdown",
   "metadata": {},
   "source": [
    "Intervals of 5 minutes!!! So much information!"
   ]
  },
  {
   "cell_type": "code",
   "execution_count": 7,
   "metadata": {},
   "outputs": [
    {
     "data": {
      "text/plain": [
       "datetime.datetime(1970, 1, 1, 1, 5, 38)"
      ]
     },
     "execution_count": 7,
     "metadata": {},
     "output_type": "execute_result"
    }
   ],
   "source": [
    "ts_diff = np.array(ts_list[1:]) - np.array(ts_list[:-1])\n",
    "datetime.fromtimestamp(round(ts_diff.mean()))"
   ]
  },
  {
   "cell_type": "markdown",
   "metadata": {},
   "source": [
    "5 minutes, 38 seconds, in particular."
   ]
  },
  {
   "cell_type": "code",
   "execution_count": null,
   "metadata": {},
   "outputs": [],
   "source": []
  },
  {
   "cell_type": "markdown",
   "metadata": {},
   "source": [
    "# Select data"
   ]
  },
  {
   "cell_type": "code",
   "execution_count": 8,
   "metadata": {},
   "outputs": [
    {
     "data": {
      "text/html": [
       "<div>\n",
       "<style scoped>\n",
       "    .dataframe tbody tr th:only-of-type {\n",
       "        vertical-align: middle;\n",
       "    }\n",
       "\n",
       "    .dataframe tbody tr th {\n",
       "        vertical-align: top;\n",
       "    }\n",
       "\n",
       "    .dataframe thead th {\n",
       "        text-align: right;\n",
       "    }\n",
       "</style>\n",
       "<table border=\"1\" class=\"dataframe\">\n",
       "  <thead>\n",
       "    <tr style=\"text-align: right;\">\n",
       "      <th></th>\n",
       "      <th>bikes_av</th>\n",
       "      <th>mechbikes_av</th>\n",
       "      <th>ebikes_av</th>\n",
       "      <th>docks_av</th>\n",
       "      <th>is_inst</th>\n",
       "      <th>is_rent</th>\n",
       "      <th>is_retu</th>\n",
       "      <th>is_char</th>\n",
       "      <th>status</th>\n",
       "      <th>last_updated</th>\n",
       "    </tr>\n",
       "    <tr>\n",
       "      <th>station_id</th>\n",
       "      <th></th>\n",
       "      <th></th>\n",
       "      <th></th>\n",
       "      <th></th>\n",
       "      <th></th>\n",
       "      <th></th>\n",
       "      <th></th>\n",
       "      <th></th>\n",
       "      <th></th>\n",
       "      <th></th>\n",
       "    </tr>\n",
       "  </thead>\n",
       "  <tbody>\n",
       "    <tr>\n",
       "      <th>1</th>\n",
       "      <td>26</td>\n",
       "      <td>25</td>\n",
       "      <td>1</td>\n",
       "      <td>0</td>\n",
       "      <td>1</td>\n",
       "      <td>1</td>\n",
       "      <td>1</td>\n",
       "      <td>True</td>\n",
       "      <td>IN_SERVICE</td>\n",
       "      <td>1561932001</td>\n",
       "    </tr>\n",
       "    <tr>\n",
       "      <th>2</th>\n",
       "      <td>23</td>\n",
       "      <td>23</td>\n",
       "      <td>0</td>\n",
       "      <td>0</td>\n",
       "      <td>1</td>\n",
       "      <td>1</td>\n",
       "      <td>1</td>\n",
       "      <td>True</td>\n",
       "      <td>IN_SERVICE</td>\n",
       "      <td>1561932001</td>\n",
       "    </tr>\n",
       "    <tr>\n",
       "      <th>3</th>\n",
       "      <td>12</td>\n",
       "      <td>12</td>\n",
       "      <td>0</td>\n",
       "      <td>13</td>\n",
       "      <td>1</td>\n",
       "      <td>1</td>\n",
       "      <td>1</td>\n",
       "      <td>True</td>\n",
       "      <td>IN_SERVICE</td>\n",
       "      <td>1561932001</td>\n",
       "    </tr>\n",
       "    <tr>\n",
       "      <th>4</th>\n",
       "      <td>1</td>\n",
       "      <td>1</td>\n",
       "      <td>0</td>\n",
       "      <td>18</td>\n",
       "      <td>1</td>\n",
       "      <td>1</td>\n",
       "      <td>1</td>\n",
       "      <td>True</td>\n",
       "      <td>IN_SERVICE</td>\n",
       "      <td>1561932001</td>\n",
       "    </tr>\n",
       "    <tr>\n",
       "      <th>5</th>\n",
       "      <td>22</td>\n",
       "      <td>22</td>\n",
       "      <td>0</td>\n",
       "      <td>15</td>\n",
       "      <td>1</td>\n",
       "      <td>1</td>\n",
       "      <td>1</td>\n",
       "      <td>True</td>\n",
       "      <td>IN_SERVICE</td>\n",
       "      <td>1561932001</td>\n",
       "    </tr>\n",
       "  </tbody>\n",
       "</table>\n",
       "</div>"
      ],
      "text/plain": [
       "            bikes_av  mechbikes_av  ebikes_av  docks_av  is_inst  is_rent  \\\n",
       "station_id                                                                  \n",
       "1                 26            25          1         0        1        1   \n",
       "2                 23            23          0         0        1        1   \n",
       "3                 12            12          0        13        1        1   \n",
       "4                  1             1          0        18        1        1   \n",
       "5                 22            22          0        15        1        1   \n",
       "\n",
       "            is_retu  is_char      status  last_updated  \n",
       "station_id                                              \n",
       "1                 1     True  IN_SERVICE    1561932001  \n",
       "2                 1     True  IN_SERVICE    1561932001  \n",
       "3                 1     True  IN_SERVICE    1561932001  \n",
       "4                 1     True  IN_SERVICE    1561932001  \n",
       "5                 1     True  IN_SERVICE    1561932001  "
      ]
     },
     "execution_count": 8,
     "metadata": {},
     "output_type": "execute_result"
    }
   ],
   "source": [
    "bicing_status.head()"
   ]
  },
  {
   "cell_type": "code",
   "execution_count": 9,
   "metadata": {},
   "outputs": [
    {
     "name": "stdout",
     "output_type": "stream",
     "text": [
      "<class 'pandas.core.frame.DataFrame'>\n",
      "Int64Index: 3238510 entries, 1 to 496\n",
      "Data columns (total 10 columns):\n",
      "bikes_av        int64\n",
      "mechbikes_av    int64\n",
      "ebikes_av       int64\n",
      "docks_av        int64\n",
      "is_inst         int64\n",
      "is_rent         int64\n",
      "is_retu         int64\n",
      "is_char         bool\n",
      "status          object\n",
      "last_updated    int64\n",
      "dtypes: bool(1), int64(8), object(1)\n",
      "memory usage: 250.2+ MB\n"
     ]
    }
   ],
   "source": [
    "bicing_status.info()"
   ]
  },
  {
   "cell_type": "code",
   "execution_count": null,
   "metadata": {},
   "outputs": [],
   "source": []
  },
  {
   "cell_type": "markdown",
   "metadata": {},
   "source": [
    "### Mechbikes + ebikes have to add up to all bikes available."
   ]
  },
  {
   "cell_type": "code",
   "execution_count": 10,
   "metadata": {},
   "outputs": [],
   "source": [
    "mask = bicing_status['bikes_av'] == bicing_status['mechbikes_av'] + bicing_status['ebikes_av']\n",
    "bicing_status = bicing_status[mask]"
   ]
  },
  {
   "cell_type": "code",
   "execution_count": 11,
   "metadata": {},
   "outputs": [
    {
     "name": "stdout",
     "output_type": "stream",
     "text": [
      "<class 'pandas.core.frame.DataFrame'>\n",
      "Int64Index: 3233956 entries, 1 to 496\n",
      "Data columns (total 10 columns):\n",
      "bikes_av        int64\n",
      "mechbikes_av    int64\n",
      "ebikes_av       int64\n",
      "docks_av        int64\n",
      "is_inst         int64\n",
      "is_rent         int64\n",
      "is_retu         int64\n",
      "is_char         bool\n",
      "status          object\n",
      "last_updated    int64\n",
      "dtypes: bool(1), int64(8), object(1)\n",
      "memory usage: 249.8+ MB\n"
     ]
    }
   ],
   "source": [
    "bicing_status.info()"
   ]
  },
  {
   "cell_type": "code",
   "execution_count": 12,
   "metadata": {},
   "outputs": [
    {
     "data": {
      "text/plain": [
       "4554"
      ]
     },
     "execution_count": 12,
     "metadata": {},
     "output_type": "execute_result"
    }
   ],
   "source": [
    "3238510-3233956"
   ]
  },
  {
   "cell_type": "code",
   "execution_count": null,
   "metadata": {},
   "outputs": [],
   "source": []
  },
  {
   "cell_type": "markdown",
   "metadata": {},
   "source": [
    "### What are is_inst, is_rent, is_retu, is_char, status?"
   ]
  },
  {
   "cell_type": "code",
   "execution_count": 13,
   "metadata": {
    "scrolled": true
   },
   "outputs": [
    {
     "data": {
      "text/plain": [
       "1    3220897\n",
       "0      13059\n",
       "Name: is_inst, dtype: int64"
      ]
     },
     "execution_count": 13,
     "metadata": {},
     "output_type": "execute_result"
    }
   ],
   "source": [
    "bicing_status['is_inst'].value_counts()"
   ]
  },
  {
   "cell_type": "code",
   "execution_count": 14,
   "metadata": {},
   "outputs": [
    {
     "data": {
      "text/plain": [
       "1    3218928\n",
       "0      15028\n",
       "Name: is_rent, dtype: int64"
      ]
     },
     "execution_count": 14,
     "metadata": {},
     "output_type": "execute_result"
    }
   ],
   "source": [
    "bicing_status['is_rent'].value_counts()"
   ]
  },
  {
   "cell_type": "code",
   "execution_count": 15,
   "metadata": {},
   "outputs": [
    {
     "data": {
      "text/plain": [
       "1    3218928\n",
       "0      15028\n",
       "Name: is_retu, dtype: int64"
      ]
     },
     "execution_count": 15,
     "metadata": {},
     "output_type": "execute_result"
    }
   ],
   "source": [
    "bicing_status['is_retu'].value_counts()"
   ]
  },
  {
   "cell_type": "code",
   "execution_count": 16,
   "metadata": {},
   "outputs": [
    {
     "data": {
      "text/plain": [
       "True    3233956\n",
       "Name: is_char, dtype: int64"
      ]
     },
     "execution_count": 16,
     "metadata": {},
     "output_type": "execute_result"
    }
   ],
   "source": [
    "bicing_status['is_char'].value_counts()"
   ]
  },
  {
   "cell_type": "code",
   "execution_count": 17,
   "metadata": {},
   "outputs": [
    {
     "data": {
      "text/plain": [
       "IN_SERVICE        3218928\n",
       "PLANNED             13059\n",
       "NOT_IN_SERVICE       1963\n",
       "MAINTENANCE             6\n",
       "Name: status, dtype: int64"
      ]
     },
     "execution_count": 17,
     "metadata": {},
     "output_type": "execute_result"
    }
   ],
   "source": [
    "bicing_status['status'].value_counts()"
   ]
  },
  {
   "cell_type": "markdown",
   "metadata": {},
   "source": [
    "Drop 'is_char', cause no info: all 'True'. Also, drop the 'PLANNED', 'NOT_IN_SERVICE' and 'MAINTENANCE' stations."
   ]
  },
  {
   "cell_type": "code",
   "execution_count": 18,
   "metadata": {},
   "outputs": [],
   "source": [
    "bicing_status = bicing_status.drop(columns=['is_char'])\n",
    "bicing_status = bicing_status[bicing_status['status'] == 'IN_SERVICE']"
   ]
  },
  {
   "cell_type": "markdown",
   "metadata": {},
   "source": [
    "Check the rest of columns again:"
   ]
  },
  {
   "cell_type": "code",
   "execution_count": 19,
   "metadata": {},
   "outputs": [
    {
     "data": {
      "text/plain": [
       "1    3218928\n",
       "Name: is_inst, dtype: int64"
      ]
     },
     "execution_count": 19,
     "metadata": {},
     "output_type": "execute_result"
    }
   ],
   "source": [
    "bicing_status['is_inst'].value_counts()"
   ]
  },
  {
   "cell_type": "code",
   "execution_count": 20,
   "metadata": {},
   "outputs": [
    {
     "data": {
      "text/plain": [
       "1    3218928\n",
       "Name: is_rent, dtype: int64"
      ]
     },
     "execution_count": 20,
     "metadata": {},
     "output_type": "execute_result"
    }
   ],
   "source": [
    "bicing_status['is_rent'].value_counts()"
   ]
  },
  {
   "cell_type": "code",
   "execution_count": 21,
   "metadata": {},
   "outputs": [
    {
     "data": {
      "text/plain": [
       "1    3218928\n",
       "Name: is_retu, dtype: int64"
      ]
     },
     "execution_count": 21,
     "metadata": {},
     "output_type": "execute_result"
    }
   ],
   "source": [
    "bicing_status['is_retu'].value_counts()"
   ]
  },
  {
   "cell_type": "code",
   "execution_count": 22,
   "metadata": {},
   "outputs": [
    {
     "data": {
      "text/plain": [
       "15028"
      ]
     },
     "execution_count": 22,
     "metadata": {},
     "output_type": "execute_result"
    }
   ],
   "source": [
    "3233956-3218928"
   ]
  },
  {
   "cell_type": "markdown",
   "metadata": {},
   "source": [
    "So 'is_inst', 'is_rent', 'is_retu' and 'status' can be all dropped."
   ]
  },
  {
   "cell_type": "code",
   "execution_count": 23,
   "metadata": {},
   "outputs": [],
   "source": [
    "bicing_status = bicing_status.drop(columns=['is_inst', 'is_rent', 'is_retu', 'status'])"
   ]
  },
  {
   "cell_type": "code",
   "execution_count": 24,
   "metadata": {},
   "outputs": [
    {
     "data": {
      "text/html": [
       "<div>\n",
       "<style scoped>\n",
       "    .dataframe tbody tr th:only-of-type {\n",
       "        vertical-align: middle;\n",
       "    }\n",
       "\n",
       "    .dataframe tbody tr th {\n",
       "        vertical-align: top;\n",
       "    }\n",
       "\n",
       "    .dataframe thead th {\n",
       "        text-align: right;\n",
       "    }\n",
       "</style>\n",
       "<table border=\"1\" class=\"dataframe\">\n",
       "  <thead>\n",
       "    <tr style=\"text-align: right;\">\n",
       "      <th></th>\n",
       "      <th>bikes_av</th>\n",
       "      <th>mechbikes_av</th>\n",
       "      <th>ebikes_av</th>\n",
       "      <th>docks_av</th>\n",
       "      <th>last_updated</th>\n",
       "    </tr>\n",
       "    <tr>\n",
       "      <th>station_id</th>\n",
       "      <th></th>\n",
       "      <th></th>\n",
       "      <th></th>\n",
       "      <th></th>\n",
       "      <th></th>\n",
       "    </tr>\n",
       "  </thead>\n",
       "  <tbody>\n",
       "    <tr>\n",
       "      <th>1</th>\n",
       "      <td>26</td>\n",
       "      <td>25</td>\n",
       "      <td>1</td>\n",
       "      <td>0</td>\n",
       "      <td>1561932001</td>\n",
       "    </tr>\n",
       "    <tr>\n",
       "      <th>2</th>\n",
       "      <td>23</td>\n",
       "      <td>23</td>\n",
       "      <td>0</td>\n",
       "      <td>0</td>\n",
       "      <td>1561932001</td>\n",
       "    </tr>\n",
       "    <tr>\n",
       "      <th>3</th>\n",
       "      <td>12</td>\n",
       "      <td>12</td>\n",
       "      <td>0</td>\n",
       "      <td>13</td>\n",
       "      <td>1561932001</td>\n",
       "    </tr>\n",
       "    <tr>\n",
       "      <th>4</th>\n",
       "      <td>1</td>\n",
       "      <td>1</td>\n",
       "      <td>0</td>\n",
       "      <td>18</td>\n",
       "      <td>1561932001</td>\n",
       "    </tr>\n",
       "    <tr>\n",
       "      <th>5</th>\n",
       "      <td>22</td>\n",
       "      <td>22</td>\n",
       "      <td>0</td>\n",
       "      <td>15</td>\n",
       "      <td>1561932001</td>\n",
       "    </tr>\n",
       "  </tbody>\n",
       "</table>\n",
       "</div>"
      ],
      "text/plain": [
       "            bikes_av  mechbikes_av  ebikes_av  docks_av  last_updated\n",
       "station_id                                                           \n",
       "1                 26            25          1         0    1561932001\n",
       "2                 23            23          0         0    1561932001\n",
       "3                 12            12          0        13    1561932001\n",
       "4                  1             1          0        18    1561932001\n",
       "5                 22            22          0        15    1561932001"
      ]
     },
     "execution_count": 24,
     "metadata": {},
     "output_type": "execute_result"
    }
   ],
   "source": [
    "bicing_status.head()"
   ]
  },
  {
   "cell_type": "code",
   "execution_count": null,
   "metadata": {},
   "outputs": [],
   "source": []
  },
  {
   "cell_type": "code",
   "execution_count": 25,
   "metadata": {},
   "outputs": [
    {
     "data": {
      "text/html": [
       "<div>\n",
       "<style scoped>\n",
       "    .dataframe tbody tr th:only-of-type {\n",
       "        vertical-align: middle;\n",
       "    }\n",
       "\n",
       "    .dataframe tbody tr th {\n",
       "        vertical-align: top;\n",
       "    }\n",
       "\n",
       "    .dataframe thead th {\n",
       "        text-align: right;\n",
       "    }\n",
       "</style>\n",
       "<table border=\"1\" class=\"dataframe\">\n",
       "  <thead>\n",
       "    <tr style=\"text-align: right;\">\n",
       "      <th></th>\n",
       "      <th>bikes_av</th>\n",
       "      <th>mechbikes_av</th>\n",
       "      <th>ebikes_av</th>\n",
       "      <th>docks_av</th>\n",
       "      <th>last_updated</th>\n",
       "    </tr>\n",
       "    <tr>\n",
       "      <th>station_id</th>\n",
       "      <th></th>\n",
       "      <th></th>\n",
       "      <th></th>\n",
       "      <th></th>\n",
       "      <th></th>\n",
       "    </tr>\n",
       "  </thead>\n",
       "  <tbody>\n",
       "    <tr>\n",
       "      <th>1</th>\n",
       "      <td>26</td>\n",
       "      <td>25</td>\n",
       "      <td>1</td>\n",
       "      <td>0</td>\n",
       "      <td>1561932001</td>\n",
       "    </tr>\n",
       "    <tr>\n",
       "      <th>1</th>\n",
       "      <td>26</td>\n",
       "      <td>25</td>\n",
       "      <td>1</td>\n",
       "      <td>0</td>\n",
       "      <td>1561932278</td>\n",
       "    </tr>\n",
       "    <tr>\n",
       "      <th>1</th>\n",
       "      <td>26</td>\n",
       "      <td>25</td>\n",
       "      <td>1</td>\n",
       "      <td>0</td>\n",
       "      <td>1561932596</td>\n",
       "    </tr>\n",
       "    <tr>\n",
       "      <th>1</th>\n",
       "      <td>25</td>\n",
       "      <td>24</td>\n",
       "      <td>1</td>\n",
       "      <td>1</td>\n",
       "      <td>1561932874</td>\n",
       "    </tr>\n",
       "    <tr>\n",
       "      <th>1</th>\n",
       "      <td>26</td>\n",
       "      <td>26</td>\n",
       "      <td>0</td>\n",
       "      <td>0</td>\n",
       "      <td>1561933189</td>\n",
       "    </tr>\n",
       "  </tbody>\n",
       "</table>\n",
       "</div>"
      ],
      "text/plain": [
       "            bikes_av  mechbikes_av  ebikes_av  docks_av  last_updated\n",
       "station_id                                                           \n",
       "1                 26            25          1         0    1561932001\n",
       "1                 26            25          1         0    1561932278\n",
       "1                 26            25          1         0    1561932596\n",
       "1                 25            24          1         1    1561932874\n",
       "1                 26            26          0         0    1561933189"
      ]
     },
     "execution_count": 25,
     "metadata": {},
     "output_type": "execute_result"
    }
   ],
   "source": [
    "bicing_status.loc[1].head()"
   ]
  },
  {
   "cell_type": "code",
   "execution_count": null,
   "metadata": {},
   "outputs": [],
   "source": []
  },
  {
   "cell_type": "code",
   "execution_count": 26,
   "metadata": {},
   "outputs": [
    {
     "data": {
      "text/html": [
       "<div>\n",
       "<style scoped>\n",
       "    .dataframe tbody tr th:only-of-type {\n",
       "        vertical-align: middle;\n",
       "    }\n",
       "\n",
       "    .dataframe tbody tr th {\n",
       "        vertical-align: top;\n",
       "    }\n",
       "\n",
       "    .dataframe thead th {\n",
       "        text-align: right;\n",
       "    }\n",
       "</style>\n",
       "<table border=\"1\" class=\"dataframe\">\n",
       "  <thead>\n",
       "    <tr style=\"text-align: right;\">\n",
       "      <th></th>\n",
       "      <th>bikes_av</th>\n",
       "      <th>mechbikes_av</th>\n",
       "      <th>ebikes_av</th>\n",
       "      <th>docks_av</th>\n",
       "    </tr>\n",
       "    <tr>\n",
       "      <th>station_id</th>\n",
       "      <th></th>\n",
       "      <th></th>\n",
       "      <th></th>\n",
       "      <th></th>\n",
       "    </tr>\n",
       "  </thead>\n",
       "  <tbody>\n",
       "    <tr>\n",
       "      <th>1</th>\n",
       "      <td>15.564784</td>\n",
       "      <td>15.129057</td>\n",
       "      <td>0.435727</td>\n",
       "      <td>11.266036</td>\n",
       "    </tr>\n",
       "    <tr>\n",
       "      <th>2</th>\n",
       "      <td>11.712125</td>\n",
       "      <td>11.324048</td>\n",
       "      <td>0.388077</td>\n",
       "      <td>12.992564</td>\n",
       "    </tr>\n",
       "    <tr>\n",
       "      <th>3</th>\n",
       "      <td>14.789135</td>\n",
       "      <td>14.465969</td>\n",
       "      <td>0.323166</td>\n",
       "      <td>10.998992</td>\n",
       "    </tr>\n",
       "    <tr>\n",
       "      <th>4</th>\n",
       "      <td>10.453890</td>\n",
       "      <td>10.135484</td>\n",
       "      <td>0.318406</td>\n",
       "      <td>8.344972</td>\n",
       "    </tr>\n",
       "    <tr>\n",
       "      <th>5</th>\n",
       "      <td>26.130325</td>\n",
       "      <td>25.901563</td>\n",
       "      <td>0.228762</td>\n",
       "      <td>10.569070</td>\n",
       "    </tr>\n",
       "  </tbody>\n",
       "</table>\n",
       "</div>"
      ],
      "text/plain": [
       "             bikes_av  mechbikes_av  ebikes_av   docks_av\n",
       "station_id                                               \n",
       "1           15.564784     15.129057   0.435727  11.266036\n",
       "2           11.712125     11.324048   0.388077  12.992564\n",
       "3           14.789135     14.465969   0.323166  10.998992\n",
       "4           10.453890     10.135484   0.318406   8.344972\n",
       "5           26.130325     25.901563   0.228762  10.569070"
      ]
     },
     "execution_count": 26,
     "metadata": {},
     "output_type": "execute_result"
    }
   ],
   "source": [
    "df1 = bicing_status.drop(columns='last_updated').groupby('station_id').mean()\n",
    "df1.head()"
   ]
  },
  {
   "cell_type": "code",
   "execution_count": null,
   "metadata": {},
   "outputs": [],
   "source": []
  },
  {
   "cell_type": "code",
   "execution_count": 27,
   "metadata": {},
   "outputs": [
    {
     "data": {
      "text/html": [
       "<div>\n",
       "<style scoped>\n",
       "    .dataframe tbody tr th:only-of-type {\n",
       "        vertical-align: middle;\n",
       "    }\n",
       "\n",
       "    .dataframe tbody tr th {\n",
       "        vertical-align: top;\n",
       "    }\n",
       "\n",
       "    .dataframe thead th {\n",
       "        text-align: right;\n",
       "    }\n",
       "</style>\n",
       "<table border=\"1\" class=\"dataframe\">\n",
       "  <thead>\n",
       "    <tr style=\"text-align: right;\">\n",
       "      <th></th>\n",
       "      <th>bikes_av</th>\n",
       "      <th>mechbikes_av</th>\n",
       "      <th>ebikes_av</th>\n",
       "      <th>docks_av</th>\n",
       "    </tr>\n",
       "  </thead>\n",
       "  <tbody>\n",
       "    <tr>\n",
       "      <th>count</th>\n",
       "      <td>408.000000</td>\n",
       "      <td>408.000000</td>\n",
       "      <td>408.000000</td>\n",
       "      <td>408.000000</td>\n",
       "    </tr>\n",
       "    <tr>\n",
       "      <th>mean</th>\n",
       "      <td>10.760396</td>\n",
       "      <td>9.783984</td>\n",
       "      <td>0.976412</td>\n",
       "      <td>14.204200</td>\n",
       "    </tr>\n",
       "    <tr>\n",
       "      <th>std</th>\n",
       "      <td>5.703632</td>\n",
       "      <td>5.983074</td>\n",
       "      <td>0.756650</td>\n",
       "      <td>5.931125</td>\n",
       "    </tr>\n",
       "    <tr>\n",
       "      <th>min</th>\n",
       "      <td>1.709730</td>\n",
       "      <td>0.271695</td>\n",
       "      <td>0.156037</td>\n",
       "      <td>3.585707</td>\n",
       "    </tr>\n",
       "    <tr>\n",
       "      <th>25%</th>\n",
       "      <td>5.742942</td>\n",
       "      <td>4.407770</td>\n",
       "      <td>0.491965</td>\n",
       "      <td>9.489574</td>\n",
       "    </tr>\n",
       "    <tr>\n",
       "      <th>50%</th>\n",
       "      <td>10.153706</td>\n",
       "      <td>9.340811</td>\n",
       "      <td>0.768276</td>\n",
       "      <td>13.223936</td>\n",
       "    </tr>\n",
       "    <tr>\n",
       "      <th>75%</th>\n",
       "      <td>15.015755</td>\n",
       "      <td>14.482165</td>\n",
       "      <td>1.173210</td>\n",
       "      <td>18.396458</td>\n",
       "    </tr>\n",
       "    <tr>\n",
       "      <th>max</th>\n",
       "      <td>36.079853</td>\n",
       "      <td>34.806378</td>\n",
       "      <td>6.208276</td>\n",
       "      <td>32.347099</td>\n",
       "    </tr>\n",
       "  </tbody>\n",
       "</table>\n",
       "</div>"
      ],
      "text/plain": [
       "         bikes_av  mechbikes_av   ebikes_av    docks_av\n",
       "count  408.000000    408.000000  408.000000  408.000000\n",
       "mean    10.760396      9.783984    0.976412   14.204200\n",
       "std      5.703632      5.983074    0.756650    5.931125\n",
       "min      1.709730      0.271695    0.156037    3.585707\n",
       "25%      5.742942      4.407770    0.491965    9.489574\n",
       "50%     10.153706      9.340811    0.768276   13.223936\n",
       "75%     15.015755     14.482165    1.173210   18.396458\n",
       "max     36.079853     34.806378    6.208276   32.347099"
      ]
     },
     "execution_count": 27,
     "metadata": {},
     "output_type": "execute_result"
    }
   ],
   "source": [
    "df1.describe()"
   ]
  },
  {
   "cell_type": "code",
   "execution_count": 28,
   "metadata": {},
   "outputs": [
    {
     "name": "stdout",
     "output_type": "stream",
     "text": [
      "<class 'pandas.core.frame.DataFrame'>\n",
      "Int64Index: 408 entries, 1 to 496\n",
      "Data columns (total 4 columns):\n",
      "bikes_av        408 non-null float64\n",
      "mechbikes_av    408 non-null float64\n",
      "ebikes_av       408 non-null float64\n",
      "docks_av        408 non-null float64\n",
      "dtypes: float64(4)\n",
      "memory usage: 15.9 KB\n"
     ]
    }
   ],
   "source": [
    "df1.info()"
   ]
  },
  {
   "cell_type": "code",
   "execution_count": null,
   "metadata": {},
   "outputs": [],
   "source": []
  },
  {
   "cell_type": "code",
   "execution_count": null,
   "metadata": {},
   "outputs": [],
   "source": []
  },
  {
   "cell_type": "code",
   "execution_count": null,
   "metadata": {},
   "outputs": [],
   "source": []
  },
  {
   "cell_type": "markdown",
   "metadata": {},
   "source": [
    "# Another file!!!"
   ]
  },
  {
   "cell_type": "code",
   "execution_count": 29,
   "metadata": {},
   "outputs": [
    {
     "name": "stdout",
     "output_type": "stream",
     "text": [
      "\"station_id\",\"name\",\"physical_configuration\",\"lat\",\"lon\",\"altitude\",\"address\",\"post_code\",\"capacity\",\"cross_street\",\"last_updated\",\"ttl\"\r\n",
      "1,\"01 - C/ GRAN VIA CORTS CATALANES, 760\",\"ELECTRICBIKESTATION\",\"41.397952\",\"2.180042\",\"21\",\"01 - C/ GRAN VIA CORTS CATALANES, 760\",8908,29,NA,1561931994,21\r\n",
      "2,\"02 - C/ ROGER DE FLOR, 126\",\"ELECTRICBIKESTATION\",\"41.39553\",\"2.17706\",\"21\",\"02 - C/ ROGER DE FLOR, 126\",8908,27,NA,1561931994,21\r\n",
      "3,\"03 - C/ NÀPOLS, 82\",\"ELECTRICBIKESTATION\",\"41.394055\",\"2.181299\",\"22\",\"03 - C/ NÀPOLS, 82\",8908,27,NA,1561931994,21\r\n",
      "4,\"04 - C/ RIBES, 13\",\"ELECTRICBIKESTATION\",\"41.39348\",\"2.181555\",\"21\",\"04 - C/ RIBES, 13\",8908,20,NA,1561931994,21\r\n",
      "5,\"05 - PG. LLUIS COMPANYS, 11 (ARC TRIOMF)\",\"ELECTRICBIKESTATION\",\"41.391075\",\"2.180223\",\"16\",\"05 - PG. LLUIS COMPANYS, 11 (ARC TRIOMF)\",8908,38,NA,1561931994,21\r\n",
      "6,\"06 - PG. LLUIS COMPANYS, 18  (ARC TRIOMF)\",\"ELECTRICBIKESTATION\",\"41.391349\",\"2.18061\",\"16\",\"06 - PG. LLUIS COMPANYS, 18  (ARC TRIOMF)\",8908,37,NA,1561931994,21\r\n",
      "7,\"07 - PG. PUJADES,  1 (JUTJATS)\",\"ELECTRICBIKESTATION\",\"41.388856\",\"2.183251\",\"16\",\"07 - PG. PUJADES,  1 (JUTJATS)\",8908,26,NA,1561931994,21\r\n",
      "8,\"08 - PG. PUJADES, 2\",\"ELECTRICBIKESTATION\",\"41.389088\",\"2.183568\",\"11\",\"08 - PG. PUJADES, 2\",8908,27,NA,1561931994,21\r\n",
      "9,\"09 - AV. MARQUÉS DE L'ARGENTERA,13\",\"ELECTRICBIKESTATION\",\"41.384532\",\"2.184921\",\"11\",\"09 - AV. MARQUÉS DE L'ARGENTERA,13\",8908,26,NA,1561931994,21\r\n"
     ]
    }
   ],
   "source": [
    "!head 'data/2019_07_Juliol_BicingNou_INFORMACIO.csv.part'"
   ]
  },
  {
   "cell_type": "code",
   "execution_count": 47,
   "metadata": {},
   "outputs": [],
   "source": [
    "bicing_info = pd.read_csv('data/2019_07_Juliol_BicingNou_INFORMACIO.csv.part', index_col='station_id')\n",
    "bicing_info = bicing_info.drop(columns=['post_code', 'ttl'])"
   ]
  },
  {
   "cell_type": "code",
   "execution_count": 31,
   "metadata": {},
   "outputs": [
    {
     "data": {
      "text/html": [
       "<div>\n",
       "<style scoped>\n",
       "    .dataframe tbody tr th:only-of-type {\n",
       "        vertical-align: middle;\n",
       "    }\n",
       "\n",
       "    .dataframe tbody tr th {\n",
       "        vertical-align: top;\n",
       "    }\n",
       "\n",
       "    .dataframe thead th {\n",
       "        text-align: right;\n",
       "    }\n",
       "</style>\n",
       "<table border=\"1\" class=\"dataframe\">\n",
       "  <thead>\n",
       "    <tr style=\"text-align: right;\">\n",
       "      <th></th>\n",
       "      <th>name</th>\n",
       "      <th>physical_configuration</th>\n",
       "      <th>lat</th>\n",
       "      <th>lon</th>\n",
       "      <th>altitude</th>\n",
       "      <th>address</th>\n",
       "      <th>capacity</th>\n",
       "      <th>cross_street</th>\n",
       "      <th>last_updated</th>\n",
       "    </tr>\n",
       "    <tr>\n",
       "      <th>station_id</th>\n",
       "      <th></th>\n",
       "      <th></th>\n",
       "      <th></th>\n",
       "      <th></th>\n",
       "      <th></th>\n",
       "      <th></th>\n",
       "      <th></th>\n",
       "      <th></th>\n",
       "      <th></th>\n",
       "    </tr>\n",
       "  </thead>\n",
       "  <tbody>\n",
       "    <tr>\n",
       "      <th>1</th>\n",
       "      <td>01 - C/ GRAN VIA CORTS CATALANES, 760</td>\n",
       "      <td>ELECTRICBIKESTATION</td>\n",
       "      <td>41.397952</td>\n",
       "      <td>2.180042</td>\n",
       "      <td>21.0</td>\n",
       "      <td>01 - C/ GRAN VIA CORTS CATALANES, 760</td>\n",
       "      <td>29</td>\n",
       "      <td>NaN</td>\n",
       "      <td>1561931994</td>\n",
       "    </tr>\n",
       "    <tr>\n",
       "      <th>2</th>\n",
       "      <td>02 - C/ ROGER DE FLOR, 126</td>\n",
       "      <td>ELECTRICBIKESTATION</td>\n",
       "      <td>41.395530</td>\n",
       "      <td>2.177060</td>\n",
       "      <td>21.0</td>\n",
       "      <td>02 - C/ ROGER DE FLOR, 126</td>\n",
       "      <td>27</td>\n",
       "      <td>NaN</td>\n",
       "      <td>1561931994</td>\n",
       "    </tr>\n",
       "    <tr>\n",
       "      <th>3</th>\n",
       "      <td>03 - C/ NÀPOLS, 82</td>\n",
       "      <td>ELECTRICBIKESTATION</td>\n",
       "      <td>41.394055</td>\n",
       "      <td>2.181299</td>\n",
       "      <td>22.0</td>\n",
       "      <td>03 - C/ NÀPOLS, 82</td>\n",
       "      <td>27</td>\n",
       "      <td>NaN</td>\n",
       "      <td>1561931994</td>\n",
       "    </tr>\n",
       "    <tr>\n",
       "      <th>4</th>\n",
       "      <td>04 - C/ RIBES, 13</td>\n",
       "      <td>ELECTRICBIKESTATION</td>\n",
       "      <td>41.393480</td>\n",
       "      <td>2.181555</td>\n",
       "      <td>21.0</td>\n",
       "      <td>04 - C/ RIBES, 13</td>\n",
       "      <td>20</td>\n",
       "      <td>NaN</td>\n",
       "      <td>1561931994</td>\n",
       "    </tr>\n",
       "    <tr>\n",
       "      <th>5</th>\n",
       "      <td>05 - PG. LLUIS COMPANYS, 11 (ARC TRIOMF)</td>\n",
       "      <td>ELECTRICBIKESTATION</td>\n",
       "      <td>41.391075</td>\n",
       "      <td>2.180223</td>\n",
       "      <td>16.0</td>\n",
       "      <td>05 - PG. LLUIS COMPANYS, 11 (ARC TRIOMF)</td>\n",
       "      <td>38</td>\n",
       "      <td>NaN</td>\n",
       "      <td>1561931994</td>\n",
       "    </tr>\n",
       "  </tbody>\n",
       "</table>\n",
       "</div>"
      ],
      "text/plain": [
       "                                                name physical_configuration  \\\n",
       "station_id                                                                    \n",
       "1              01 - C/ GRAN VIA CORTS CATALANES, 760    ELECTRICBIKESTATION   \n",
       "2                         02 - C/ ROGER DE FLOR, 126    ELECTRICBIKESTATION   \n",
       "3                                 03 - C/ NÀPOLS, 82    ELECTRICBIKESTATION   \n",
       "4                                  04 - C/ RIBES, 13    ELECTRICBIKESTATION   \n",
       "5           05 - PG. LLUIS COMPANYS, 11 (ARC TRIOMF)    ELECTRICBIKESTATION   \n",
       "\n",
       "                  lat       lon  altitude  \\\n",
       "station_id                                  \n",
       "1           41.397952  2.180042      21.0   \n",
       "2           41.395530  2.177060      21.0   \n",
       "3           41.394055  2.181299      22.0   \n",
       "4           41.393480  2.181555      21.0   \n",
       "5           41.391075  2.180223      16.0   \n",
       "\n",
       "                                             address  capacity cross_street  \\\n",
       "station_id                                                                    \n",
       "1              01 - C/ GRAN VIA CORTS CATALANES, 760        29          NaN   \n",
       "2                         02 - C/ ROGER DE FLOR, 126        27          NaN   \n",
       "3                                 03 - C/ NÀPOLS, 82        27          NaN   \n",
       "4                                  04 - C/ RIBES, 13        20          NaN   \n",
       "5           05 - PG. LLUIS COMPANYS, 11 (ARC TRIOMF)        38          NaN   \n",
       "\n",
       "            last_updated  \n",
       "station_id                \n",
       "1             1561931994  \n",
       "2             1561931994  \n",
       "3             1561931994  \n",
       "4             1561931994  \n",
       "5             1561931994  "
      ]
     },
     "execution_count": 31,
     "metadata": {},
     "output_type": "execute_result"
    }
   ],
   "source": [
    "bicing_info.head()"
   ]
  },
  {
   "cell_type": "code",
   "execution_count": null,
   "metadata": {},
   "outputs": [],
   "source": []
  },
  {
   "cell_type": "markdown",
   "metadata": {},
   "source": [
    "# Select data."
   ]
  },
  {
   "cell_type": "code",
   "execution_count": null,
   "metadata": {},
   "outputs": [],
   "source": []
  },
  {
   "cell_type": "code",
   "execution_count": 32,
   "metadata": {},
   "outputs": [
    {
     "data": {
      "text/plain": [
       "ELECTRICBIKESTATION    3212011\n",
       "Name: physical_configuration, dtype: int64"
      ]
     },
     "execution_count": 32,
     "metadata": {},
     "output_type": "execute_result"
    }
   ],
   "source": [
    "bicing_info['physical_configuration'].value_counts()"
   ]
  },
  {
   "cell_type": "markdown",
   "metadata": {},
   "source": [
    "Can be dropped. xd"
   ]
  },
  {
   "cell_type": "code",
   "execution_count": 48,
   "metadata": {},
   "outputs": [],
   "source": [
    "bicing_info = bicing_info.drop(columns='physical_configuration')"
   ]
  },
  {
   "cell_type": "code",
   "execution_count": null,
   "metadata": {},
   "outputs": [],
   "source": []
  },
  {
   "cell_type": "code",
   "execution_count": 34,
   "metadata": {},
   "outputs": [
    {
     "data": {
      "text/plain": [
       "0"
      ]
     },
     "execution_count": 34,
     "metadata": {},
     "output_type": "execute_result"
    }
   ],
   "source": [
    "check = bicing_info['name'] == bicing_info['address']\n",
    "np.product(check)"
   ]
  },
  {
   "cell_type": "code",
   "execution_count": 35,
   "metadata": {},
   "outputs": [
    {
     "data": {
      "text/html": [
       "<div>\n",
       "<style scoped>\n",
       "    .dataframe tbody tr th:only-of-type {\n",
       "        vertical-align: middle;\n",
       "    }\n",
       "\n",
       "    .dataframe tbody tr th {\n",
       "        vertical-align: top;\n",
       "    }\n",
       "\n",
       "    .dataframe thead th {\n",
       "        text-align: right;\n",
       "    }\n",
       "</style>\n",
       "<table border=\"1\" class=\"dataframe\">\n",
       "  <thead>\n",
       "    <tr style=\"text-align: right;\">\n",
       "      <th></th>\n",
       "      <th>name</th>\n",
       "      <th>lat</th>\n",
       "      <th>lon</th>\n",
       "      <th>altitude</th>\n",
       "      <th>address</th>\n",
       "      <th>capacity</th>\n",
       "      <th>cross_street</th>\n",
       "      <th>last_updated</th>\n",
       "    </tr>\n",
       "    <tr>\n",
       "      <th>station_id</th>\n",
       "      <th></th>\n",
       "      <th></th>\n",
       "      <th></th>\n",
       "      <th></th>\n",
       "      <th></th>\n",
       "      <th></th>\n",
       "      <th></th>\n",
       "      <th></th>\n",
       "    </tr>\n",
       "  </thead>\n",
       "  <tbody>\n",
       "    <tr>\n",
       "      <th>37</th>\n",
       "      <td>37 - PL. ANTONIO LÓPEZ (CORREUS, VIA LAIETANA</td>\n",
       "      <td>41.381226</td>\n",
       "      <td>2.181888</td>\n",
       "      <td>5.0</td>\n",
       "      <td>37 - PL. ANTONIO LÓPEZ (CORREUS, VIA LAIETANA)</td>\n",
       "      <td>24</td>\n",
       "      <td>NaN</td>\n",
       "      <td>1561931994</td>\n",
       "    </tr>\n",
       "    <tr>\n",
       "      <th>44</th>\n",
       "      <td>44 - AV. MERIDIANA, 66 ( COSTAT METRO GLORIES</td>\n",
       "      <td>41.402285</td>\n",
       "      <td>2.187111</td>\n",
       "      <td>18.0</td>\n",
       "      <td>44 - AV. MERIDIANA, 66 ( COSTAT METRO GLORIES)</td>\n",
       "      <td>21</td>\n",
       "      <td>NaN</td>\n",
       "      <td>1561931994</td>\n",
       "    </tr>\n",
       "    <tr>\n",
       "      <th>79</th>\n",
       "      <td>79 - PL.  UNIVERSITAT</td>\n",
       "      <td>41.385444</td>\n",
       "      <td>2.163430</td>\n",
       "      <td>41.0</td>\n",
       "      <td>79 - PL. UNIVERSITAT</td>\n",
       "      <td>24</td>\n",
       "      <td>NaN</td>\n",
       "      <td>1561931994</td>\n",
       "    </tr>\n",
       "    <tr>\n",
       "      <th>93</th>\n",
       "      <td>93 - GRAN VIA DE LES CORTS CATALANES, 375</td>\n",
       "      <td>41.375559</td>\n",
       "      <td>2.149973</td>\n",
       "      <td>40.0</td>\n",
       "      <td>93 - GRAN VIA DE LES CORTS CATALANES, 375-385</td>\n",
       "      <td>24</td>\n",
       "      <td>NaN</td>\n",
       "      <td>1561931994</td>\n",
       "    </tr>\n",
       "    <tr>\n",
       "      <th>94</th>\n",
       "      <td>94 - GRAN VIA DE LES CORTS CATALANES, 375</td>\n",
       "      <td>41.375570</td>\n",
       "      <td>2.150068</td>\n",
       "      <td>40.0</td>\n",
       "      <td>94 - GRAN  VIA DE LES CORTS CATALANES, 375-385</td>\n",
       "      <td>24</td>\n",
       "      <td>NaN</td>\n",
       "      <td>1561931994</td>\n",
       "    </tr>\n",
       "  </tbody>\n",
       "</table>\n",
       "</div>"
      ],
      "text/plain": [
       "                                                     name        lat  \\\n",
       "station_id                                                             \n",
       "37          37 - PL. ANTONIO LÓPEZ (CORREUS, VIA LAIETANA  41.381226   \n",
       "44          44 - AV. MERIDIANA, 66 ( COSTAT METRO GLORIES  41.402285   \n",
       "79                                  79 - PL.  UNIVERSITAT  41.385444   \n",
       "93              93 - GRAN VIA DE LES CORTS CATALANES, 375  41.375559   \n",
       "94              94 - GRAN VIA DE LES CORTS CATALANES, 375  41.375570   \n",
       "\n",
       "                 lon  altitude  \\\n",
       "station_id                       \n",
       "37          2.181888       5.0   \n",
       "44          2.187111      18.0   \n",
       "79          2.163430      41.0   \n",
       "93          2.149973      40.0   \n",
       "94          2.150068      40.0   \n",
       "\n",
       "                                                   address  capacity  \\\n",
       "station_id                                                             \n",
       "37          37 - PL. ANTONIO LÓPEZ (CORREUS, VIA LAIETANA)        24   \n",
       "44          44 - AV. MERIDIANA, 66 ( COSTAT METRO GLORIES)        21   \n",
       "79                                    79 - PL. UNIVERSITAT        24   \n",
       "93           93 - GRAN VIA DE LES CORTS CATALANES, 375-385        24   \n",
       "94          94 - GRAN  VIA DE LES CORTS CATALANES, 375-385        24   \n",
       "\n",
       "           cross_street  last_updated  \n",
       "station_id                             \n",
       "37                  NaN    1561931994  \n",
       "44                  NaN    1561931994  \n",
       "79                  NaN    1561931994  \n",
       "93                  NaN    1561931994  \n",
       "94                  NaN    1561931994  "
      ]
     },
     "execution_count": 35,
     "metadata": {},
     "output_type": "execute_result"
    }
   ],
   "source": [
    "bicing_info[~check].head()"
   ]
  },
  {
   "cell_type": "code",
   "execution_count": 36,
   "metadata": {},
   "outputs": [
    {
     "name": "stdout",
     "output_type": "stream",
     "text": [
      "<class 'pandas.core.frame.DataFrame'>\n",
      "Int64Index: 246874 entries, 37 to 496\n",
      "Data columns (total 8 columns):\n",
      "name            246874 non-null object\n",
      "lat             246874 non-null float64\n",
      "lon             246874 non-null float64\n",
      "altitude        246874 non-null float64\n",
      "address         246874 non-null object\n",
      "capacity        246874 non-null int64\n",
      "cross_street    0 non-null object\n",
      "last_updated    246874 non-null int64\n",
      "dtypes: float64(3), int64(2), object(3)\n",
      "memory usage: 17.0+ MB\n"
     ]
    }
   ],
   "source": [
    "bicing_info[~check].info()"
   ]
  },
  {
   "cell_type": "markdown",
   "metadata": {},
   "source": [
    "Let's keep address, because what i want is C, AV, PL, GV..."
   ]
  },
  {
   "cell_type": "code",
   "execution_count": 49,
   "metadata": {},
   "outputs": [],
   "source": [
    "bicing_info = bicing_info.drop(columns='name')"
   ]
  },
  {
   "cell_type": "code",
   "execution_count": null,
   "metadata": {},
   "outputs": [],
   "source": []
  },
  {
   "cell_type": "code",
   "execution_count": 38,
   "metadata": {},
   "outputs": [
    {
     "data": {
      "text/plain": [
       "Pg. Verdum    7917\n",
       "Name: cross_street, dtype: int64"
      ]
     },
     "execution_count": 38,
     "metadata": {},
     "output_type": "execute_result"
    }
   ],
   "source": [
    "bicing_info['cross_street'].value_counts()"
   ]
  },
  {
   "cell_type": "code",
   "execution_count": 39,
   "metadata": {},
   "outputs": [
    {
     "name": "stdout",
     "output_type": "stream",
     "text": [
      "<class 'pandas.core.frame.DataFrame'>\n",
      "Int64Index: 7810 entries, 1 to 1\n",
      "Data columns (total 7 columns):\n",
      "lat             7810 non-null float64\n",
      "lon             7810 non-null float64\n",
      "altitude        7810 non-null float64\n",
      "address         7810 non-null object\n",
      "capacity        7810 non-null int64\n",
      "cross_street    0 non-null object\n",
      "last_updated    7810 non-null int64\n",
      "dtypes: float64(3), int64(2), object(2)\n",
      "memory usage: 488.1+ KB\n"
     ]
    }
   ],
   "source": [
    "bicing_info.loc[1].info()"
   ]
  },
  {
   "cell_type": "markdown",
   "metadata": {},
   "source": [
    "Let's drop it... it's only ONE station of 400. Can't do data science with just 1 point."
   ]
  },
  {
   "cell_type": "code",
   "execution_count": 50,
   "metadata": {},
   "outputs": [],
   "source": [
    "bicing_info = bicing_info.drop(columns='cross_street')"
   ]
  },
  {
   "cell_type": "code",
   "execution_count": null,
   "metadata": {},
   "outputs": [],
   "source": []
  },
  {
   "cell_type": "code",
   "execution_count": 41,
   "metadata": {},
   "outputs": [
    {
     "data": {
      "text/html": [
       "<div>\n",
       "<style scoped>\n",
       "    .dataframe tbody tr th:only-of-type {\n",
       "        vertical-align: middle;\n",
       "    }\n",
       "\n",
       "    .dataframe tbody tr th {\n",
       "        vertical-align: top;\n",
       "    }\n",
       "\n",
       "    .dataframe thead th {\n",
       "        text-align: right;\n",
       "    }\n",
       "</style>\n",
       "<table border=\"1\" class=\"dataframe\">\n",
       "  <thead>\n",
       "    <tr style=\"text-align: right;\">\n",
       "      <th></th>\n",
       "      <th>lat</th>\n",
       "      <th>lon</th>\n",
       "      <th>altitude</th>\n",
       "      <th>address</th>\n",
       "      <th>capacity</th>\n",
       "      <th>last_updated</th>\n",
       "    </tr>\n",
       "    <tr>\n",
       "      <th>station_id</th>\n",
       "      <th></th>\n",
       "      <th></th>\n",
       "      <th></th>\n",
       "      <th></th>\n",
       "      <th></th>\n",
       "      <th></th>\n",
       "    </tr>\n",
       "  </thead>\n",
       "  <tbody>\n",
       "    <tr>\n",
       "      <th>1</th>\n",
       "      <td>41.397952</td>\n",
       "      <td>2.180042</td>\n",
       "      <td>21.0</td>\n",
       "      <td>01 - C/ GRAN VIA CORTS CATALANES, 760</td>\n",
       "      <td>29</td>\n",
       "      <td>1561931994</td>\n",
       "    </tr>\n",
       "    <tr>\n",
       "      <th>2</th>\n",
       "      <td>41.395530</td>\n",
       "      <td>2.177060</td>\n",
       "      <td>21.0</td>\n",
       "      <td>02 - C/ ROGER DE FLOR, 126</td>\n",
       "      <td>27</td>\n",
       "      <td>1561931994</td>\n",
       "    </tr>\n",
       "    <tr>\n",
       "      <th>3</th>\n",
       "      <td>41.394055</td>\n",
       "      <td>2.181299</td>\n",
       "      <td>22.0</td>\n",
       "      <td>03 - C/ NÀPOLS, 82</td>\n",
       "      <td>27</td>\n",
       "      <td>1561931994</td>\n",
       "    </tr>\n",
       "    <tr>\n",
       "      <th>4</th>\n",
       "      <td>41.393480</td>\n",
       "      <td>2.181555</td>\n",
       "      <td>21.0</td>\n",
       "      <td>04 - C/ RIBES, 13</td>\n",
       "      <td>20</td>\n",
       "      <td>1561931994</td>\n",
       "    </tr>\n",
       "    <tr>\n",
       "      <th>5</th>\n",
       "      <td>41.391075</td>\n",
       "      <td>2.180223</td>\n",
       "      <td>16.0</td>\n",
       "      <td>05 - PG. LLUIS COMPANYS, 11 (ARC TRIOMF)</td>\n",
       "      <td>38</td>\n",
       "      <td>1561931994</td>\n",
       "    </tr>\n",
       "  </tbody>\n",
       "</table>\n",
       "</div>"
      ],
      "text/plain": [
       "                  lat       lon  altitude  \\\n",
       "station_id                                  \n",
       "1           41.397952  2.180042      21.0   \n",
       "2           41.395530  2.177060      21.0   \n",
       "3           41.394055  2.181299      22.0   \n",
       "4           41.393480  2.181555      21.0   \n",
       "5           41.391075  2.180223      16.0   \n",
       "\n",
       "                                             address  capacity  last_updated  \n",
       "station_id                                                                    \n",
       "1              01 - C/ GRAN VIA CORTS CATALANES, 760        29    1561931994  \n",
       "2                         02 - C/ ROGER DE FLOR, 126        27    1561931994  \n",
       "3                                 03 - C/ NÀPOLS, 82        27    1561931994  \n",
       "4                                  04 - C/ RIBES, 13        20    1561931994  \n",
       "5           05 - PG. LLUIS COMPANYS, 11 (ARC TRIOMF)        38    1561931994  "
      ]
     },
     "execution_count": 41,
     "metadata": {},
     "output_type": "execute_result"
    }
   ],
   "source": [
    "bicing_info.head()"
   ]
  },
  {
   "cell_type": "code",
   "execution_count": 42,
   "metadata": {},
   "outputs": [
    {
     "data": {
      "text/html": [
       "<div>\n",
       "<style scoped>\n",
       "    .dataframe tbody tr th:only-of-type {\n",
       "        vertical-align: middle;\n",
       "    }\n",
       "\n",
       "    .dataframe tbody tr th {\n",
       "        vertical-align: top;\n",
       "    }\n",
       "\n",
       "    .dataframe thead th {\n",
       "        text-align: right;\n",
       "    }\n",
       "</style>\n",
       "<table border=\"1\" class=\"dataframe\">\n",
       "  <thead>\n",
       "    <tr style=\"text-align: right;\">\n",
       "      <th></th>\n",
       "      <th>lat</th>\n",
       "      <th>lon</th>\n",
       "      <th>altitude</th>\n",
       "      <th>capacity</th>\n",
       "      <th>last_updated</th>\n",
       "    </tr>\n",
       "  </thead>\n",
       "  <tbody>\n",
       "    <tr>\n",
       "      <th>count</th>\n",
       "      <td>7.810000e+03</td>\n",
       "      <td>7.810000e+03</td>\n",
       "      <td>7810.0</td>\n",
       "      <td>7810.00000</td>\n",
       "      <td>7.810000e+03</td>\n",
       "    </tr>\n",
       "    <tr>\n",
       "      <th>mean</th>\n",
       "      <td>4.139795e+01</td>\n",
       "      <td>2.180042e+00</td>\n",
       "      <td>21.0</td>\n",
       "      <td>28.23790</td>\n",
       "      <td>1.563131e+09</td>\n",
       "    </tr>\n",
       "    <tr>\n",
       "      <th>std</th>\n",
       "      <td>4.867529e-12</td>\n",
       "      <td>4.085882e-14</td>\n",
       "      <td>0.0</td>\n",
       "      <td>0.58495</td>\n",
       "      <td>7.240003e+05</td>\n",
       "    </tr>\n",
       "    <tr>\n",
       "      <th>min</th>\n",
       "      <td>4.139795e+01</td>\n",
       "      <td>2.180042e+00</td>\n",
       "      <td>21.0</td>\n",
       "      <td>28.00000</td>\n",
       "      <td>1.561932e+09</td>\n",
       "    </tr>\n",
       "    <tr>\n",
       "      <th>25%</th>\n",
       "      <td>4.139795e+01</td>\n",
       "      <td>2.180042e+00</td>\n",
       "      <td>21.0</td>\n",
       "      <td>28.00000</td>\n",
       "      <td>1.562518e+09</td>\n",
       "    </tr>\n",
       "    <tr>\n",
       "      <th>50%</th>\n",
       "      <td>4.139795e+01</td>\n",
       "      <td>2.180042e+00</td>\n",
       "      <td>21.0</td>\n",
       "      <td>28.00000</td>\n",
       "      <td>1.563104e+09</td>\n",
       "    </tr>\n",
       "    <tr>\n",
       "      <th>75%</th>\n",
       "      <td>4.139795e+01</td>\n",
       "      <td>2.180042e+00</td>\n",
       "      <td>21.0</td>\n",
       "      <td>28.00000</td>\n",
       "      <td>1.563690e+09</td>\n",
       "    </tr>\n",
       "    <tr>\n",
       "      <th>max</th>\n",
       "      <td>4.139795e+01</td>\n",
       "      <td>2.180042e+00</td>\n",
       "      <td>21.0</td>\n",
       "      <td>30.00000</td>\n",
       "      <td>1.564610e+09</td>\n",
       "    </tr>\n",
       "  </tbody>\n",
       "</table>\n",
       "</div>"
      ],
      "text/plain": [
       "                lat           lon  altitude    capacity  last_updated\n",
       "count  7.810000e+03  7.810000e+03    7810.0  7810.00000  7.810000e+03\n",
       "mean   4.139795e+01  2.180042e+00      21.0    28.23790  1.563131e+09\n",
       "std    4.867529e-12  4.085882e-14       0.0     0.58495  7.240003e+05\n",
       "min    4.139795e+01  2.180042e+00      21.0    28.00000  1.561932e+09\n",
       "25%    4.139795e+01  2.180042e+00      21.0    28.00000  1.562518e+09\n",
       "50%    4.139795e+01  2.180042e+00      21.0    28.00000  1.563104e+09\n",
       "75%    4.139795e+01  2.180042e+00      21.0    28.00000  1.563690e+09\n",
       "max    4.139795e+01  2.180042e+00      21.0    30.00000  1.564610e+09"
      ]
     },
     "execution_count": 42,
     "metadata": {},
     "output_type": "execute_result"
    }
   ],
   "source": [
    "bicing_info.loc[1].describe()"
   ]
  },
  {
   "cell_type": "code",
   "execution_count": null,
   "metadata": {},
   "outputs": [],
   "source": []
  },
  {
   "cell_type": "markdown",
   "metadata": {},
   "source": [
    "WATCH OUT!!!"
   ]
  },
  {
   "cell_type": "code",
   "execution_count": 43,
   "metadata": {},
   "outputs": [
    {
     "data": {
      "text/html": [
       "<div>\n",
       "<style scoped>\n",
       "    .dataframe tbody tr th:only-of-type {\n",
       "        vertical-align: middle;\n",
       "    }\n",
       "\n",
       "    .dataframe tbody tr th {\n",
       "        vertical-align: top;\n",
       "    }\n",
       "\n",
       "    .dataframe thead th {\n",
       "        text-align: right;\n",
       "    }\n",
       "</style>\n",
       "<table border=\"1\" class=\"dataframe\">\n",
       "  <thead>\n",
       "    <tr style=\"text-align: right;\">\n",
       "      <th></th>\n",
       "      <th></th>\n",
       "      <th>lat</th>\n",
       "      <th>lon</th>\n",
       "      <th>altitude</th>\n",
       "      <th>address</th>\n",
       "      <th>capacity</th>\n",
       "    </tr>\n",
       "    <tr>\n",
       "      <th>last_updated</th>\n",
       "      <th>station_id</th>\n",
       "      <th></th>\n",
       "      <th></th>\n",
       "      <th></th>\n",
       "      <th></th>\n",
       "      <th></th>\n",
       "    </tr>\n",
       "  </thead>\n",
       "  <tbody>\n",
       "    <tr>\n",
       "      <th rowspan=\"5\" valign=\"top\">1561931994</th>\n",
       "      <th>1</th>\n",
       "      <td>41.397952</td>\n",
       "      <td>2.180042</td>\n",
       "      <td>21.0</td>\n",
       "      <td>01 - C/ GRAN VIA CORTS CATALANES, 760</td>\n",
       "      <td>29</td>\n",
       "    </tr>\n",
       "    <tr>\n",
       "      <th>2</th>\n",
       "      <td>41.395530</td>\n",
       "      <td>2.177060</td>\n",
       "      <td>21.0</td>\n",
       "      <td>02 - C/ ROGER DE FLOR, 126</td>\n",
       "      <td>27</td>\n",
       "    </tr>\n",
       "    <tr>\n",
       "      <th>3</th>\n",
       "      <td>41.394055</td>\n",
       "      <td>2.181299</td>\n",
       "      <td>22.0</td>\n",
       "      <td>03 - C/ NÀPOLS, 82</td>\n",
       "      <td>27</td>\n",
       "    </tr>\n",
       "    <tr>\n",
       "      <th>4</th>\n",
       "      <td>41.393480</td>\n",
       "      <td>2.181555</td>\n",
       "      <td>21.0</td>\n",
       "      <td>04 - C/ RIBES, 13</td>\n",
       "      <td>20</td>\n",
       "    </tr>\n",
       "    <tr>\n",
       "      <th>5</th>\n",
       "      <td>41.391075</td>\n",
       "      <td>2.180223</td>\n",
       "      <td>16.0</td>\n",
       "      <td>05 - PG. LLUIS COMPANYS, 11 (ARC TRIOMF)</td>\n",
       "      <td>38</td>\n",
       "    </tr>\n",
       "  </tbody>\n",
       "</table>\n",
       "</div>"
      ],
      "text/plain": [
       "                               lat       lon  altitude  \\\n",
       "last_updated station_id                                  \n",
       "1561931994   1           41.397952  2.180042      21.0   \n",
       "             2           41.395530  2.177060      21.0   \n",
       "             3           41.394055  2.181299      22.0   \n",
       "             4           41.393480  2.181555      21.0   \n",
       "             5           41.391075  2.180223      16.0   \n",
       "\n",
       "                                                          address  capacity  \n",
       "last_updated station_id                                                      \n",
       "1561931994   1              01 - C/ GRAN VIA CORTS CATALANES, 760        29  \n",
       "             2                         02 - C/ ROGER DE FLOR, 126        27  \n",
       "             3                                 03 - C/ NÀPOLS, 82        27  \n",
       "             4                                  04 - C/ RIBES, 13        20  \n",
       "             5           05 - PG. LLUIS COMPANYS, 11 (ARC TRIOMF)        38  "
      ]
     },
     "execution_count": 43,
     "metadata": {},
     "output_type": "execute_result"
    }
   ],
   "source": [
    "bicing_info = bicing_info.reset_index().set_index(['last_updated', 'station_id']).sort_index()\n",
    "bicing_info.head()"
   ]
  },
  {
   "cell_type": "code",
   "execution_count": 44,
   "metadata": {},
   "outputs": [
    {
     "ename": "TypeError",
     "evalue": "'MultiIndex' object is not callable",
     "output_type": "error",
     "traceback": [
      "\u001b[0;31m---------------------------------------------------------------------------\u001b[0m",
      "\u001b[0;31mTypeError\u001b[0m                                 Traceback (most recent call last)",
      "\u001b[0;32m<ipython-input-44-ab14843a60fd>\u001b[0m in \u001b[0;36m<module>\u001b[0;34m\u001b[0m\n\u001b[0;32m----> 1\u001b[0;31m \u001b[0mbicing_info\u001b[0m\u001b[0;34m.\u001b[0m\u001b[0mindex\u001b[0m\u001b[0;34m(\u001b[0m\u001b[0mlevel\u001b[0m\u001b[0;34m=\u001b[0m\u001b[0;36m2\u001b[0m\u001b[0;34m)\u001b[0m\u001b[0;34m\u001b[0m\u001b[0;34m\u001b[0m\u001b[0m\n\u001b[0m",
      "\u001b[0;31mTypeError\u001b[0m: 'MultiIndex' object is not callable"
     ]
    }
   ],
   "source": [
    "bicing_info.index(level=2)"
   ]
  },
  {
   "cell_type": "code",
   "execution_count": 45,
   "metadata": {},
   "outputs": [],
   "source": [
    "all_stations = bicing_info.index.unique"
   ]
  },
  {
   "cell_type": "code",
   "execution_count": null,
   "metadata": {},
   "outputs": [],
   "source": []
  },
  {
   "cell_type": "code",
   "execution_count": null,
   "metadata": {},
   "outputs": [],
   "source": []
  },
  {
   "cell_type": "code",
   "execution_count": null,
   "metadata": {},
   "outputs": [],
   "source": []
  },
  {
   "cell_type": "code",
   "execution_count": null,
   "metadata": {},
   "outputs": [],
   "source": []
  },
  {
   "cell_type": "code",
   "execution_count": 51,
   "metadata": {},
   "outputs": [
    {
     "data": {
      "text/html": [
       "<div>\n",
       "<style scoped>\n",
       "    .dataframe tbody tr th:only-of-type {\n",
       "        vertical-align: middle;\n",
       "    }\n",
       "\n",
       "    .dataframe tbody tr th {\n",
       "        vertical-align: top;\n",
       "    }\n",
       "\n",
       "    .dataframe thead th {\n",
       "        text-align: right;\n",
       "    }\n",
       "</style>\n",
       "<table border=\"1\" class=\"dataframe\">\n",
       "  <thead>\n",
       "    <tr style=\"text-align: right;\">\n",
       "      <th></th>\n",
       "      <th>lat</th>\n",
       "      <th>lon</th>\n",
       "      <th>altitude</th>\n",
       "      <th>capacity</th>\n",
       "    </tr>\n",
       "    <tr>\n",
       "      <th>station_id</th>\n",
       "      <th></th>\n",
       "      <th></th>\n",
       "      <th></th>\n",
       "      <th></th>\n",
       "    </tr>\n",
       "  </thead>\n",
       "  <tbody>\n",
       "    <tr>\n",
       "      <th>1</th>\n",
       "      <td>41.397952</td>\n",
       "      <td>2.180042</td>\n",
       "      <td>21.0</td>\n",
       "      <td>28.237900</td>\n",
       "    </tr>\n",
       "    <tr>\n",
       "      <th>2</th>\n",
       "      <td>41.395530</td>\n",
       "      <td>2.177060</td>\n",
       "      <td>21.0</td>\n",
       "      <td>27.000000</td>\n",
       "    </tr>\n",
       "    <tr>\n",
       "      <th>3</th>\n",
       "      <td>41.394055</td>\n",
       "      <td>2.181299</td>\n",
       "      <td>22.0</td>\n",
       "      <td>27.000000</td>\n",
       "    </tr>\n",
       "    <tr>\n",
       "      <th>4</th>\n",
       "      <td>41.393480</td>\n",
       "      <td>2.181555</td>\n",
       "      <td>21.0</td>\n",
       "      <td>19.788313</td>\n",
       "    </tr>\n",
       "    <tr>\n",
       "      <th>5</th>\n",
       "      <td>41.391075</td>\n",
       "      <td>2.180223</td>\n",
       "      <td>16.0</td>\n",
       "      <td>38.077681</td>\n",
       "    </tr>\n",
       "  </tbody>\n",
       "</table>\n",
       "</div>"
      ],
      "text/plain": [
       "                  lat       lon  altitude   capacity\n",
       "station_id                                          \n",
       "1           41.397952  2.180042      21.0  28.237900\n",
       "2           41.395530  2.177060      21.0  27.000000\n",
       "3           41.394055  2.181299      22.0  27.000000\n",
       "4           41.393480  2.181555      21.0  19.788313\n",
       "5           41.391075  2.180223      16.0  38.077681"
      ]
     },
     "execution_count": 51,
     "metadata": {},
     "output_type": "execute_result"
    }
   ],
   "source": [
    "df2 = bicing_info.drop(columns='last_updated').groupby('station_id').mean()\n",
    "df2.head()"
   ]
  },
  {
   "cell_type": "code",
   "execution_count": 52,
   "metadata": {},
   "outputs": [
    {
     "name": "stdout",
     "output_type": "stream",
     "text": [
      "<class 'pandas.core.frame.DataFrame'>\n",
      "Int64Index: 408 entries, 1 to 496\n",
      "Data columns (total 4 columns):\n",
      "lat         408 non-null float64\n",
      "lon         408 non-null float64\n",
      "altitude    408 non-null float64\n",
      "capacity    408 non-null float64\n",
      "dtypes: float64(4)\n",
      "memory usage: 15.9 KB\n"
     ]
    }
   ],
   "source": [
    "df2.info()"
   ]
  },
  {
   "cell_type": "code",
   "execution_count": null,
   "metadata": {},
   "outputs": [],
   "source": []
  },
  {
   "cell_type": "code",
   "execution_count": null,
   "metadata": {},
   "outputs": [],
   "source": []
  },
  {
   "cell_type": "code",
   "execution_count": 68,
   "metadata": {},
   "outputs": [
    {
     "data": {
      "text/plain": [
       "station_id\n",
       "1       01 - C/ GRAN VIA CORTS CATALANES, 760\n",
       "2                  02 - C/ ROGER DE FLOR, 126\n",
       "3                          03 - C/ NÀPOLS, 82\n",
       "4                           04 - C/ RIBES, 13\n",
       "5    05 - PG. LLUIS COMPANYS, 11 (ARC TRIOMF)\n",
       "Name: address, dtype: object"
      ]
     },
     "execution_count": 68,
     "metadata": {},
     "output_type": "execute_result"
    }
   ],
   "source": [
    "df3 = bicing_info['address'].drop_duplicates(keep='first')\n",
    "df3.head()"
   ]
  },
  {
   "cell_type": "code",
   "execution_count": null,
   "metadata": {},
   "outputs": [],
   "source": []
  },
  {
   "cell_type": "code",
   "execution_count": null,
   "metadata": {},
   "outputs": [],
   "source": []
  },
  {
   "cell_type": "code",
   "execution_count": 69,
   "metadata": {},
   "outputs": [],
   "source": [
    "df1 = df1.sort_index()\n",
    "df2 = df2.sort_index()\n",
    "df3 = df3.sort_index()"
   ]
  },
  {
   "cell_type": "code",
   "execution_count": 70,
   "metadata": {},
   "outputs": [],
   "source": [
    "df = pd.concat([df1, df2, df3], axis=1)"
   ]
  },
  {
   "cell_type": "code",
   "execution_count": null,
   "metadata": {},
   "outputs": [],
   "source": []
  },
  {
   "cell_type": "code",
   "execution_count": 72,
   "metadata": {},
   "outputs": [
    {
     "data": {
      "text/html": [
       "<div>\n",
       "<style scoped>\n",
       "    .dataframe tbody tr th:only-of-type {\n",
       "        vertical-align: middle;\n",
       "    }\n",
       "\n",
       "    .dataframe tbody tr th {\n",
       "        vertical-align: top;\n",
       "    }\n",
       "\n",
       "    .dataframe thead th {\n",
       "        text-align: right;\n",
       "    }\n",
       "</style>\n",
       "<table border=\"1\" class=\"dataframe\">\n",
       "  <thead>\n",
       "    <tr style=\"text-align: right;\">\n",
       "      <th></th>\n",
       "      <th>bikes_av</th>\n",
       "      <th>mechbikes_av</th>\n",
       "      <th>ebikes_av</th>\n",
       "      <th>docks_av</th>\n",
       "      <th>lat</th>\n",
       "      <th>lon</th>\n",
       "      <th>altitude</th>\n",
       "      <th>capacity</th>\n",
       "      <th>address</th>\n",
       "    </tr>\n",
       "    <tr>\n",
       "      <th>station_id</th>\n",
       "      <th></th>\n",
       "      <th></th>\n",
       "      <th></th>\n",
       "      <th></th>\n",
       "      <th></th>\n",
       "      <th></th>\n",
       "      <th></th>\n",
       "      <th></th>\n",
       "      <th></th>\n",
       "    </tr>\n",
       "  </thead>\n",
       "  <tbody>\n",
       "    <tr>\n",
       "      <th>1</th>\n",
       "      <td>15.564784</td>\n",
       "      <td>15.129057</td>\n",
       "      <td>0.435727</td>\n",
       "      <td>11.266036</td>\n",
       "      <td>41.397952</td>\n",
       "      <td>2.180042</td>\n",
       "      <td>21.0</td>\n",
       "      <td>28.237900</td>\n",
       "      <td>01 - C/ GRAN VIA CORTS CATALANES, 760</td>\n",
       "    </tr>\n",
       "    <tr>\n",
       "      <th>2</th>\n",
       "      <td>11.712125</td>\n",
       "      <td>11.324048</td>\n",
       "      <td>0.388077</td>\n",
       "      <td>12.992564</td>\n",
       "      <td>41.395530</td>\n",
       "      <td>2.177060</td>\n",
       "      <td>21.0</td>\n",
       "      <td>27.000000</td>\n",
       "      <td>02 - C/ ROGER DE FLOR, 126</td>\n",
       "    </tr>\n",
       "    <tr>\n",
       "      <th>3</th>\n",
       "      <td>14.789135</td>\n",
       "      <td>14.465969</td>\n",
       "      <td>0.323166</td>\n",
       "      <td>10.998992</td>\n",
       "      <td>41.394055</td>\n",
       "      <td>2.181299</td>\n",
       "      <td>22.0</td>\n",
       "      <td>27.000000</td>\n",
       "      <td>03 - C/ NÀPOLS, 82</td>\n",
       "    </tr>\n",
       "    <tr>\n",
       "      <th>4</th>\n",
       "      <td>10.453890</td>\n",
       "      <td>10.135484</td>\n",
       "      <td>0.318406</td>\n",
       "      <td>8.344972</td>\n",
       "      <td>41.393480</td>\n",
       "      <td>2.181555</td>\n",
       "      <td>21.0</td>\n",
       "      <td>19.788313</td>\n",
       "      <td>04 - C/ RIBES, 13</td>\n",
       "    </tr>\n",
       "    <tr>\n",
       "      <th>5</th>\n",
       "      <td>26.130325</td>\n",
       "      <td>25.901563</td>\n",
       "      <td>0.228762</td>\n",
       "      <td>10.569070</td>\n",
       "      <td>41.391075</td>\n",
       "      <td>2.180223</td>\n",
       "      <td>16.0</td>\n",
       "      <td>38.077681</td>\n",
       "      <td>05 - PG. LLUIS COMPANYS, 11 (ARC TRIOMF)</td>\n",
       "    </tr>\n",
       "  </tbody>\n",
       "</table>\n",
       "</div>"
      ],
      "text/plain": [
       "             bikes_av  mechbikes_av  ebikes_av   docks_av        lat  \\\n",
       "station_id                                                             \n",
       "1           15.564784     15.129057   0.435727  11.266036  41.397952   \n",
       "2           11.712125     11.324048   0.388077  12.992564  41.395530   \n",
       "3           14.789135     14.465969   0.323166  10.998992  41.394055   \n",
       "4           10.453890     10.135484   0.318406   8.344972  41.393480   \n",
       "5           26.130325     25.901563   0.228762  10.569070  41.391075   \n",
       "\n",
       "                 lon  altitude   capacity  \\\n",
       "station_id                                  \n",
       "1           2.180042      21.0  28.237900   \n",
       "2           2.177060      21.0  27.000000   \n",
       "3           2.181299      22.0  27.000000   \n",
       "4           2.181555      21.0  19.788313   \n",
       "5           2.180223      16.0  38.077681   \n",
       "\n",
       "                                             address  \n",
       "station_id                                            \n",
       "1              01 - C/ GRAN VIA CORTS CATALANES, 760  \n",
       "2                         02 - C/ ROGER DE FLOR, 126  \n",
       "3                                 03 - C/ NÀPOLS, 82  \n",
       "4                                  04 - C/ RIBES, 13  \n",
       "5           05 - PG. LLUIS COMPANYS, 11 (ARC TRIOMF)  "
      ]
     },
     "execution_count": 72,
     "metadata": {},
     "output_type": "execute_result"
    }
   ],
   "source": [
    "df.head()"
   ]
  },
  {
   "cell_type": "code",
   "execution_count": null,
   "metadata": {},
   "outputs": [],
   "source": []
  },
  {
   "cell_type": "code",
   "execution_count": null,
   "metadata": {},
   "outputs": [],
   "source": []
  },
  {
   "cell_type": "code",
   "execution_count": 93,
   "metadata": {},
   "outputs": [
    {
     "data": {
      "text/plain": [
       "True    408\n",
       "dtype: int64"
      ]
     },
     "execution_count": 93,
     "metadata": {},
     "output_type": "execute_result"
    }
   ],
   "source": [
    "x = df['capacity'] >= df['bikes_av'] + df['docks_av']\n",
    "x.value_counts()"
   ]
  },
  {
   "cell_type": "code",
   "execution_count": null,
   "metadata": {},
   "outputs": [],
   "source": []
  },
  {
   "cell_type": "markdown",
   "metadata": {},
   "source": [
    "# Address categories"
   ]
  },
  {
   "cell_type": "code",
   "execution_count": 73,
   "metadata": {},
   "outputs": [
    {
     "data": {
      "text/html": [
       "<div>\n",
       "<style scoped>\n",
       "    .dataframe tbody tr th:only-of-type {\n",
       "        vertical-align: middle;\n",
       "    }\n",
       "\n",
       "    .dataframe tbody tr th {\n",
       "        vertical-align: top;\n",
       "    }\n",
       "\n",
       "    .dataframe thead th {\n",
       "        text-align: right;\n",
       "    }\n",
       "</style>\n",
       "<table border=\"1\" class=\"dataframe\">\n",
       "  <thead>\n",
       "    <tr style=\"text-align: right;\">\n",
       "      <th></th>\n",
       "      <th>bikes_av</th>\n",
       "      <th>mechbikes_av</th>\n",
       "      <th>ebikes_av</th>\n",
       "      <th>docks_av</th>\n",
       "      <th>lat</th>\n",
       "      <th>lon</th>\n",
       "      <th>altitude</th>\n",
       "      <th>capacity</th>\n",
       "      <th>address</th>\n",
       "    </tr>\n",
       "    <tr>\n",
       "      <th>station_id</th>\n",
       "      <th></th>\n",
       "      <th></th>\n",
       "      <th></th>\n",
       "      <th></th>\n",
       "      <th></th>\n",
       "      <th></th>\n",
       "      <th></th>\n",
       "      <th></th>\n",
       "      <th></th>\n",
       "    </tr>\n",
       "  </thead>\n",
       "  <tbody>\n",
       "    <tr>\n",
       "      <th>1</th>\n",
       "      <td>15.564784</td>\n",
       "      <td>15.129057</td>\n",
       "      <td>0.435727</td>\n",
       "      <td>11.266036</td>\n",
       "      <td>41.397952</td>\n",
       "      <td>2.180042</td>\n",
       "      <td>21.0</td>\n",
       "      <td>28.237900</td>\n",
       "      <td>01 - C/ GRAN VIA CORTS CATALANES, 760</td>\n",
       "    </tr>\n",
       "    <tr>\n",
       "      <th>2</th>\n",
       "      <td>11.712125</td>\n",
       "      <td>11.324048</td>\n",
       "      <td>0.388077</td>\n",
       "      <td>12.992564</td>\n",
       "      <td>41.395530</td>\n",
       "      <td>2.177060</td>\n",
       "      <td>21.0</td>\n",
       "      <td>27.000000</td>\n",
       "      <td>02 - C/ ROGER DE FLOR, 126</td>\n",
       "    </tr>\n",
       "    <tr>\n",
       "      <th>3</th>\n",
       "      <td>14.789135</td>\n",
       "      <td>14.465969</td>\n",
       "      <td>0.323166</td>\n",
       "      <td>10.998992</td>\n",
       "      <td>41.394055</td>\n",
       "      <td>2.181299</td>\n",
       "      <td>22.0</td>\n",
       "      <td>27.000000</td>\n",
       "      <td>03 - C/ NÀPOLS, 82</td>\n",
       "    </tr>\n",
       "    <tr>\n",
       "      <th>4</th>\n",
       "      <td>10.453890</td>\n",
       "      <td>10.135484</td>\n",
       "      <td>0.318406</td>\n",
       "      <td>8.344972</td>\n",
       "      <td>41.393480</td>\n",
       "      <td>2.181555</td>\n",
       "      <td>21.0</td>\n",
       "      <td>19.788313</td>\n",
       "      <td>04 - C/ RIBES, 13</td>\n",
       "    </tr>\n",
       "    <tr>\n",
       "      <th>5</th>\n",
       "      <td>26.130325</td>\n",
       "      <td>25.901563</td>\n",
       "      <td>0.228762</td>\n",
       "      <td>10.569070</td>\n",
       "      <td>41.391075</td>\n",
       "      <td>2.180223</td>\n",
       "      <td>16.0</td>\n",
       "      <td>38.077681</td>\n",
       "      <td>05 - PG. LLUIS COMPANYS, 11 (ARC TRIOMF)</td>\n",
       "    </tr>\n",
       "  </tbody>\n",
       "</table>\n",
       "</div>"
      ],
      "text/plain": [
       "             bikes_av  mechbikes_av  ebikes_av   docks_av        lat  \\\n",
       "station_id                                                             \n",
       "1           15.564784     15.129057   0.435727  11.266036  41.397952   \n",
       "2           11.712125     11.324048   0.388077  12.992564  41.395530   \n",
       "3           14.789135     14.465969   0.323166  10.998992  41.394055   \n",
       "4           10.453890     10.135484   0.318406   8.344972  41.393480   \n",
       "5           26.130325     25.901563   0.228762  10.569070  41.391075   \n",
       "\n",
       "                 lon  altitude   capacity  \\\n",
       "station_id                                  \n",
       "1           2.180042      21.0  28.237900   \n",
       "2           2.177060      21.0  27.000000   \n",
       "3           2.181299      22.0  27.000000   \n",
       "4           2.181555      21.0  19.788313   \n",
       "5           2.180223      16.0  38.077681   \n",
       "\n",
       "                                             address  \n",
       "station_id                                            \n",
       "1              01 - C/ GRAN VIA CORTS CATALANES, 760  \n",
       "2                         02 - C/ ROGER DE FLOR, 126  \n",
       "3                                 03 - C/ NÀPOLS, 82  \n",
       "4                                  04 - C/ RIBES, 13  \n",
       "5           05 - PG. LLUIS COMPANYS, 11 (ARC TRIOMF)  "
      ]
     },
     "execution_count": 73,
     "metadata": {},
     "output_type": "execute_result"
    }
   ],
   "source": [
    "df.head()"
   ]
  },
  {
   "cell_type": "code",
   "execution_count": 74,
   "metadata": {},
   "outputs": [
    {
     "data": {
      "text/html": [
       "<div>\n",
       "<style scoped>\n",
       "    .dataframe tbody tr th:only-of-type {\n",
       "        vertical-align: middle;\n",
       "    }\n",
       "\n",
       "    .dataframe tbody tr th {\n",
       "        vertical-align: top;\n",
       "    }\n",
       "\n",
       "    .dataframe thead th {\n",
       "        text-align: right;\n",
       "    }\n",
       "</style>\n",
       "<table border=\"1\" class=\"dataframe\">\n",
       "  <thead>\n",
       "    <tr style=\"text-align: right;\">\n",
       "      <th></th>\n",
       "      <th>bikes_av</th>\n",
       "      <th>mechbikes_av</th>\n",
       "      <th>ebikes_av</th>\n",
       "      <th>docks_av</th>\n",
       "      <th>lat</th>\n",
       "      <th>lon</th>\n",
       "      <th>altitude</th>\n",
       "      <th>capacity</th>\n",
       "      <th>address</th>\n",
       "    </tr>\n",
       "    <tr>\n",
       "      <th>station_id</th>\n",
       "      <th></th>\n",
       "      <th></th>\n",
       "      <th></th>\n",
       "      <th></th>\n",
       "      <th></th>\n",
       "      <th></th>\n",
       "      <th></th>\n",
       "      <th></th>\n",
       "      <th></th>\n",
       "    </tr>\n",
       "  </thead>\n",
       "  <tbody>\n",
       "    <tr>\n",
       "      <th>428</th>\n",
       "      <td>12.271524</td>\n",
       "      <td>11.792008</td>\n",
       "      <td>0.479516</td>\n",
       "      <td>12.488466</td>\n",
       "      <td>41.398389</td>\n",
       "      <td>2.196261</td>\n",
       "      <td>11.0</td>\n",
       "      <td>27.000000</td>\n",
       "      <td>428 - C/ PUJADES, 103</td>\n",
       "    </tr>\n",
       "    <tr>\n",
       "      <th>492</th>\n",
       "      <td>6.520040</td>\n",
       "      <td>6.116839</td>\n",
       "      <td>0.403201</td>\n",
       "      <td>15.234686</td>\n",
       "      <td>41.394425</td>\n",
       "      <td>2.175103</td>\n",
       "      <td>21.0</td>\n",
       "      <td>24.000000</td>\n",
       "      <td>492 - PL. TETUAN</td>\n",
       "    </tr>\n",
       "    <tr>\n",
       "      <th>494</th>\n",
       "      <td>9.087875</td>\n",
       "      <td>8.533064</td>\n",
       "      <td>0.554811</td>\n",
       "      <td>13.686812</td>\n",
       "      <td>41.389670</td>\n",
       "      <td>2.165428</td>\n",
       "      <td>41.0</td>\n",
       "      <td>23.394450</td>\n",
       "      <td>494 - RAMBLA CATALUNYA/DIPUTACIO</td>\n",
       "    </tr>\n",
       "    <tr>\n",
       "      <th>495</th>\n",
       "      <td>4.903633</td>\n",
       "      <td>4.340565</td>\n",
       "      <td>0.563068</td>\n",
       "      <td>16.759839</td>\n",
       "      <td>41.376708</td>\n",
       "      <td>2.148395</td>\n",
       "      <td>45.0</td>\n",
       "      <td>22.879661</td>\n",
       "      <td>495 - C/ DIPUTACIÓ - TARRAGONA</td>\n",
       "    </tr>\n",
       "    <tr>\n",
       "      <th>496</th>\n",
       "      <td>6.673053</td>\n",
       "      <td>5.968238</td>\n",
       "      <td>0.704815</td>\n",
       "      <td>8.813713</td>\n",
       "      <td>41.404839</td>\n",
       "      <td>2.174820</td>\n",
       "      <td>21.0</td>\n",
       "      <td>18.000000</td>\n",
       "      <td>496 - C/ PROVENÇA, 445</td>\n",
       "    </tr>\n",
       "  </tbody>\n",
       "</table>\n",
       "</div>"
      ],
      "text/plain": [
       "             bikes_av  mechbikes_av  ebikes_av   docks_av        lat  \\\n",
       "station_id                                                             \n",
       "428         12.271524     11.792008   0.479516  12.488466  41.398389   \n",
       "492          6.520040      6.116839   0.403201  15.234686  41.394425   \n",
       "494          9.087875      8.533064   0.554811  13.686812  41.389670   \n",
       "495          4.903633      4.340565   0.563068  16.759839  41.376708   \n",
       "496          6.673053      5.968238   0.704815   8.813713  41.404839   \n",
       "\n",
       "                 lon  altitude   capacity                           address  \n",
       "station_id                                                                   \n",
       "428         2.196261      11.0  27.000000             428 - C/ PUJADES, 103  \n",
       "492         2.175103      21.0  24.000000                  492 - PL. TETUAN  \n",
       "494         2.165428      41.0  23.394450  494 - RAMBLA CATALUNYA/DIPUTACIO  \n",
       "495         2.148395      45.0  22.879661    495 - C/ DIPUTACIÓ - TARRAGONA  \n",
       "496         2.174820      21.0  18.000000            496 - C/ PROVENÇA, 445  "
      ]
     },
     "execution_count": 74,
     "metadata": {},
     "output_type": "execute_result"
    }
   ],
   "source": [
    "df.tail()"
   ]
  },
  {
   "cell_type": "code",
   "execution_count": null,
   "metadata": {},
   "outputs": [],
   "source": []
  },
  {
   "cell_type": "code",
   "execution_count": 75,
   "metadata": {},
   "outputs": [],
   "source": [
    "mask_c = df['address'].str.contains('C/| CARRER | C ')\n",
    "mask_via = df['address'].str.contains(' VIA | VÍA ')\n",
    "mask_pg = df['address'].str.contains('PG.')\n",
    "\n",
    "# square\n",
    "mask_pl = df['address'].str.contains('PL.| PLAÇA ')\n",
    "\n",
    "mask_ra = df['address'].str.contains(' RAMBL')\n",
    "\n",
    "# wide, with trees\n",
    "mask_av = df['address'].str.contains('AV.')\n",
    "\n",
    "mask_ro = df['address'].str.contains(' RONDA ')\n",
    "mask_crta = df['address'].str.contains('CRTA.')\n",
    "\n",
    "# narrow\n",
    "mask_ps = df['address'].str.contains(' PASSATGE ')\n",
    "\n",
    "antimask = ~ ( mask_c | mask_via | mask_pg | mask_pl | mask_ra | mask_av | mask_ro | mask_crta | mask_ps )"
   ]
  },
  {
   "cell_type": "code",
   "execution_count": null,
   "metadata": {},
   "outputs": [],
   "source": []
  },
  {
   "cell_type": "code",
   "execution_count": 76,
   "metadata": {},
   "outputs": [
    {
     "data": {
      "text/plain": [
       "9"
      ]
     },
     "execution_count": 76,
     "metadata": {},
     "output_type": "execute_result"
    }
   ],
   "source": [
    "np.sum(antimask)"
   ]
  },
  {
   "cell_type": "code",
   "execution_count": 80,
   "metadata": {
    "scrolled": true
   },
   "outputs": [
    {
     "data": {
      "text/html": [
       "<div>\n",
       "<style scoped>\n",
       "    .dataframe tbody tr th:only-of-type {\n",
       "        vertical-align: middle;\n",
       "    }\n",
       "\n",
       "    .dataframe tbody tr th {\n",
       "        vertical-align: top;\n",
       "    }\n",
       "\n",
       "    .dataframe thead th {\n",
       "        text-align: right;\n",
       "    }\n",
       "</style>\n",
       "<table border=\"1\" class=\"dataframe\">\n",
       "  <thead>\n",
       "    <tr style=\"text-align: right;\">\n",
       "      <th></th>\n",
       "      <th>bikes_av</th>\n",
       "      <th>mechbikes_av</th>\n",
       "      <th>ebikes_av</th>\n",
       "      <th>docks_av</th>\n",
       "      <th>lat</th>\n",
       "      <th>lon</th>\n",
       "      <th>altitude</th>\n",
       "      <th>capacity</th>\n",
       "      <th>address</th>\n",
       "    </tr>\n",
       "    <tr>\n",
       "      <th>station_id</th>\n",
       "      <th></th>\n",
       "      <th></th>\n",
       "      <th></th>\n",
       "      <th></th>\n",
       "      <th></th>\n",
       "      <th></th>\n",
       "      <th></th>\n",
       "      <th></th>\n",
       "      <th></th>\n",
       "    </tr>\n",
       "  </thead>\n",
       "  <tbody>\n",
       "    <tr>\n",
       "      <th>32</th>\n",
       "      <td>11.938997</td>\n",
       "      <td>11.538946</td>\n",
       "      <td>0.400050</td>\n",
       "      <td>12.304008</td>\n",
       "      <td>41.373698</td>\n",
       "      <td>2.188927</td>\n",
       "      <td>1.0</td>\n",
       "      <td>26.713149</td>\n",
       "      <td>32 - LA BARCELONETA (CN BARCELONETA)</td>\n",
       "    </tr>\n",
       "    <tr>\n",
       "      <th>56</th>\n",
       "      <td>16.382153</td>\n",
       "      <td>16.144316</td>\n",
       "      <td>0.237837</td>\n",
       "      <td>9.631964</td>\n",
       "      <td>41.377011</td>\n",
       "      <td>2.175834</td>\n",
       "      <td>5.0</td>\n",
       "      <td>27.000000</td>\n",
       "      <td>56 - PORTAL DE SANTA MADRONA, 2-4</td>\n",
       "    </tr>\n",
       "    <tr>\n",
       "      <th>76</th>\n",
       "      <td>5.267330</td>\n",
       "      <td>4.475548</td>\n",
       "      <td>0.791782</td>\n",
       "      <td>26.377489</td>\n",
       "      <td>41.391751</td>\n",
       "      <td>2.153123</td>\n",
       "      <td>45.0</td>\n",
       "      <td>32.000000</td>\n",
       "      <td>76 - CÒRSEGA, 216</td>\n",
       "    </tr>\n",
       "    <tr>\n",
       "      <th>221</th>\n",
       "      <td>4.231868</td>\n",
       "      <td>2.818170</td>\n",
       "      <td>1.413697</td>\n",
       "      <td>18.124084</td>\n",
       "      <td>41.402535</td>\n",
       "      <td>2.152519</td>\n",
       "      <td>71.0</td>\n",
       "      <td>24.000000</td>\n",
       "      <td>221 - GRAN DE GRÀCIA, 155 (METRO FONTANA)</td>\n",
       "    </tr>\n",
       "    <tr>\n",
       "      <th>294</th>\n",
       "      <td>2.995841</td>\n",
       "      <td>2.047391</td>\n",
       "      <td>0.948450</td>\n",
       "      <td>19.711243</td>\n",
       "      <td>41.436373</td>\n",
       "      <td>2.170678</td>\n",
       "      <td>61.0</td>\n",
       "      <td>24.000000</td>\n",
       "      <td>294 - SEU DEL DISTRICTE (NOU BARRIS)</td>\n",
       "    </tr>\n",
       "    <tr>\n",
       "      <th>375</th>\n",
       "      <td>8.671323</td>\n",
       "      <td>7.518820</td>\n",
       "      <td>1.152503</td>\n",
       "      <td>17.297762</td>\n",
       "      <td>41.372154</td>\n",
       "      <td>2.180701</td>\n",
       "      <td>1.0</td>\n",
       "      <td>26.732080</td>\n",
       "      <td>375 - WORLD TRADE CENTER</td>\n",
       "    </tr>\n",
       "    <tr>\n",
       "      <th>376</th>\n",
       "      <td>7.048275</td>\n",
       "      <td>6.187287</td>\n",
       "      <td>0.860988</td>\n",
       "      <td>19.152534</td>\n",
       "      <td>41.371663</td>\n",
       "      <td>2.180302</td>\n",
       "      <td>1.0</td>\n",
       "      <td>26.414134</td>\n",
       "      <td>376 - WORLD TRADE CENTER</td>\n",
       "    </tr>\n",
       "    <tr>\n",
       "      <th>389</th>\n",
       "      <td>19.402823</td>\n",
       "      <td>19.063902</td>\n",
       "      <td>0.338921</td>\n",
       "      <td>6.747794</td>\n",
       "      <td>41.387390</td>\n",
       "      <td>2.187500</td>\n",
       "      <td>11.0</td>\n",
       "      <td>27.000000</td>\n",
       "      <td>389 - RECINTE PARC DE LA CIUTADELLA</td>\n",
       "    </tr>\n",
       "    <tr>\n",
       "      <th>400</th>\n",
       "      <td>16.212125</td>\n",
       "      <td>15.330224</td>\n",
       "      <td>0.881901</td>\n",
       "      <td>10.961936</td>\n",
       "      <td>41.369580</td>\n",
       "      <td>2.188017</td>\n",
       "      <td>5.0</td>\n",
       "      <td>27.717570</td>\n",
       "      <td>400 - MOLL ORIENTAL</td>\n",
       "    </tr>\n",
       "  </tbody>\n",
       "</table>\n",
       "</div>"
      ],
      "text/plain": [
       "             bikes_av  mechbikes_av  ebikes_av   docks_av        lat  \\\n",
       "station_id                                                             \n",
       "32          11.938997     11.538946   0.400050  12.304008  41.373698   \n",
       "56          16.382153     16.144316   0.237837   9.631964  41.377011   \n",
       "76           5.267330      4.475548   0.791782  26.377489  41.391751   \n",
       "221          4.231868      2.818170   1.413697  18.124084  41.402535   \n",
       "294          2.995841      2.047391   0.948450  19.711243  41.436373   \n",
       "375          8.671323      7.518820   1.152503  17.297762  41.372154   \n",
       "376          7.048275      6.187287   0.860988  19.152534  41.371663   \n",
       "389         19.402823     19.063902   0.338921   6.747794  41.387390   \n",
       "400         16.212125     15.330224   0.881901  10.961936  41.369580   \n",
       "\n",
       "                 lon  altitude   capacity  \\\n",
       "station_id                                  \n",
       "32          2.188927       1.0  26.713149   \n",
       "56          2.175834       5.0  27.000000   \n",
       "76          2.153123      45.0  32.000000   \n",
       "221         2.152519      71.0  24.000000   \n",
       "294         2.170678      61.0  24.000000   \n",
       "375         2.180701       1.0  26.732080   \n",
       "376         2.180302       1.0  26.414134   \n",
       "389         2.187500      11.0  27.000000   \n",
       "400         2.188017       5.0  27.717570   \n",
       "\n",
       "                                              address  \n",
       "station_id                                             \n",
       "32               32 - LA BARCELONETA (CN BARCELONETA)  \n",
       "56                  56 - PORTAL DE SANTA MADRONA, 2-4  \n",
       "76                                  76 - CÒRSEGA, 216  \n",
       "221         221 - GRAN DE GRÀCIA, 155 (METRO FONTANA)  \n",
       "294              294 - SEU DEL DISTRICTE (NOU BARRIS)  \n",
       "375                          375 - WORLD TRADE CENTER  \n",
       "376                          376 - WORLD TRADE CENTER  \n",
       "389               389 - RECINTE PARC DE LA CIUTADELLA  \n",
       "400                               400 - MOLL ORIENTAL  "
      ]
     },
     "execution_count": 80,
     "metadata": {},
     "output_type": "execute_result"
    }
   ],
   "source": [
    "df[antimask]"
   ]
  },
  {
   "cell_type": "code",
   "execution_count": null,
   "metadata": {},
   "outputs": [],
   "source": []
  },
  {
   "cell_type": "code",
   "execution_count": null,
   "metadata": {},
   "outputs": [],
   "source": []
  },
  {
   "cell_type": "code",
   "execution_count": 90,
   "metadata": {},
   "outputs": [],
   "source": [
    "def add_cat(row):\n",
    "    if ' VIA | VÍA ' in row['address']:\n",
    "        return 'VIA'\n",
    "    if 'PG.' in row['address']:\n",
    "        return 'PASSEIG'\n",
    "    if 'PL.| PLAÇA ' in row['address']:\n",
    "        return 'PLAÇA'\n",
    "    if ' RAMBL' in row['address']:\n",
    "        return 'RAMBLA'\n",
    "    if 'AV.' in row['address']:\n",
    "        return 'AVINGUDA'\n",
    "    if ' RONDA ' in row['address']:\n",
    "        return 'RONDA'\n",
    "    if 'CRTA.' in row['address']:\n",
    "        return 'CARRETERA'\n",
    "    if ' PASSATGE ' in row['address']:\n",
    "        return 'PASSATGE'\n",
    "    else:\n",
    "        return 'CARRER'"
   ]
  },
  {
   "cell_type": "code",
   "execution_count": 91,
   "metadata": {},
   "outputs": [],
   "source": [
    "df['address_cat'] = df.apply(lambda row: add_cat(row), axis=1)"
   ]
  },
  {
   "cell_type": "code",
   "execution_count": null,
   "metadata": {},
   "outputs": [],
   "source": []
  },
  {
   "cell_type": "code",
   "execution_count": 92,
   "metadata": {},
   "outputs": [
    {
     "data": {
      "text/html": [
       "<div>\n",
       "<style scoped>\n",
       "    .dataframe tbody tr th:only-of-type {\n",
       "        vertical-align: middle;\n",
       "    }\n",
       "\n",
       "    .dataframe tbody tr th {\n",
       "        vertical-align: top;\n",
       "    }\n",
       "\n",
       "    .dataframe thead th {\n",
       "        text-align: right;\n",
       "    }\n",
       "</style>\n",
       "<table border=\"1\" class=\"dataframe\">\n",
       "  <thead>\n",
       "    <tr style=\"text-align: right;\">\n",
       "      <th></th>\n",
       "      <th>bikes_av</th>\n",
       "      <th>mechbikes_av</th>\n",
       "      <th>ebikes_av</th>\n",
       "      <th>docks_av</th>\n",
       "      <th>lat</th>\n",
       "      <th>lon</th>\n",
       "      <th>altitude</th>\n",
       "      <th>capacity</th>\n",
       "      <th>address</th>\n",
       "      <th>address_cat</th>\n",
       "    </tr>\n",
       "    <tr>\n",
       "      <th>station_id</th>\n",
       "      <th></th>\n",
       "      <th></th>\n",
       "      <th></th>\n",
       "      <th></th>\n",
       "      <th></th>\n",
       "      <th></th>\n",
       "      <th></th>\n",
       "      <th></th>\n",
       "      <th></th>\n",
       "      <th></th>\n",
       "    </tr>\n",
       "  </thead>\n",
       "  <tbody>\n",
       "    <tr>\n",
       "      <th>1</th>\n",
       "      <td>15.564784</td>\n",
       "      <td>15.129057</td>\n",
       "      <td>0.435727</td>\n",
       "      <td>11.266036</td>\n",
       "      <td>41.397952</td>\n",
       "      <td>2.180042</td>\n",
       "      <td>21.0</td>\n",
       "      <td>28.237900</td>\n",
       "      <td>01 - C/ GRAN VIA CORTS CATALANES, 760</td>\n",
       "      <td>CARRER</td>\n",
       "    </tr>\n",
       "    <tr>\n",
       "      <th>2</th>\n",
       "      <td>11.712125</td>\n",
       "      <td>11.324048</td>\n",
       "      <td>0.388077</td>\n",
       "      <td>12.992564</td>\n",
       "      <td>41.395530</td>\n",
       "      <td>2.177060</td>\n",
       "      <td>21.0</td>\n",
       "      <td>27.000000</td>\n",
       "      <td>02 - C/ ROGER DE FLOR, 126</td>\n",
       "      <td>CARRER</td>\n",
       "    </tr>\n",
       "    <tr>\n",
       "      <th>3</th>\n",
       "      <td>14.789135</td>\n",
       "      <td>14.465969</td>\n",
       "      <td>0.323166</td>\n",
       "      <td>10.998992</td>\n",
       "      <td>41.394055</td>\n",
       "      <td>2.181299</td>\n",
       "      <td>22.0</td>\n",
       "      <td>27.000000</td>\n",
       "      <td>03 - C/ NÀPOLS, 82</td>\n",
       "      <td>CARRER</td>\n",
       "    </tr>\n",
       "    <tr>\n",
       "      <th>4</th>\n",
       "      <td>10.453890</td>\n",
       "      <td>10.135484</td>\n",
       "      <td>0.318406</td>\n",
       "      <td>8.344972</td>\n",
       "      <td>41.393480</td>\n",
       "      <td>2.181555</td>\n",
       "      <td>21.0</td>\n",
       "      <td>19.788313</td>\n",
       "      <td>04 - C/ RIBES, 13</td>\n",
       "      <td>CARRER</td>\n",
       "    </tr>\n",
       "    <tr>\n",
       "      <th>5</th>\n",
       "      <td>26.130325</td>\n",
       "      <td>25.901563</td>\n",
       "      <td>0.228762</td>\n",
       "      <td>10.569070</td>\n",
       "      <td>41.391075</td>\n",
       "      <td>2.180223</td>\n",
       "      <td>16.0</td>\n",
       "      <td>38.077681</td>\n",
       "      <td>05 - PG. LLUIS COMPANYS, 11 (ARC TRIOMF)</td>\n",
       "      <td>PASSEIG</td>\n",
       "    </tr>\n",
       "  </tbody>\n",
       "</table>\n",
       "</div>"
      ],
      "text/plain": [
       "             bikes_av  mechbikes_av  ebikes_av   docks_av        lat  \\\n",
       "station_id                                                             \n",
       "1           15.564784     15.129057   0.435727  11.266036  41.397952   \n",
       "2           11.712125     11.324048   0.388077  12.992564  41.395530   \n",
       "3           14.789135     14.465969   0.323166  10.998992  41.394055   \n",
       "4           10.453890     10.135484   0.318406   8.344972  41.393480   \n",
       "5           26.130325     25.901563   0.228762  10.569070  41.391075   \n",
       "\n",
       "                 lon  altitude   capacity  \\\n",
       "station_id                                  \n",
       "1           2.180042      21.0  28.237900   \n",
       "2           2.177060      21.0  27.000000   \n",
       "3           2.181299      22.0  27.000000   \n",
       "4           2.181555      21.0  19.788313   \n",
       "5           2.180223      16.0  38.077681   \n",
       "\n",
       "                                             address address_cat  \n",
       "station_id                                                        \n",
       "1              01 - C/ GRAN VIA CORTS CATALANES, 760      CARRER  \n",
       "2                         02 - C/ ROGER DE FLOR, 126      CARRER  \n",
       "3                                 03 - C/ NÀPOLS, 82      CARRER  \n",
       "4                                  04 - C/ RIBES, 13      CARRER  \n",
       "5           05 - PG. LLUIS COMPANYS, 11 (ARC TRIOMF)     PASSEIG  "
      ]
     },
     "execution_count": 92,
     "metadata": {},
     "output_type": "execute_result"
    }
   ],
   "source": [
    "df.head()"
   ]
  },
  {
   "cell_type": "code",
   "execution_count": null,
   "metadata": {},
   "outputs": [],
   "source": []
  },
  {
   "cell_type": "code",
   "execution_count": null,
   "metadata": {},
   "outputs": [],
   "source": []
  },
  {
   "cell_type": "code",
   "execution_count": null,
   "metadata": {},
   "outputs": [],
   "source": []
  },
  {
   "cell_type": "code",
   "execution_count": null,
   "metadata": {},
   "outputs": [],
   "source": []
  },
  {
   "cell_type": "markdown",
   "metadata": {},
   "source": [
    "# LINEAR REGRESSION"
   ]
  },
  {
   "cell_type": "code",
   "execution_count": 94,
   "metadata": {},
   "outputs": [],
   "source": [
    "def linreg(X, y):\n",
    "\n",
    "    X_train, X_test, y_train, y_test = train_test_split(X, y)\n",
    "\n",
    "    reg = LinearRegression()\n",
    "    reg.fit(X_train, y_train)\n",
    "\n",
    "    pred = reg.predict(X_test)\n",
    "\n",
    "    print('Intercept:', reg.intercept_)\n",
    "    print('Coefficients:\\n', reg.coef_)\n",
    "    print('Mean squared error: ', mean_squared_error(y_test, pred))\n",
    "    print('r2 score: ', r2_score(y_test, pred))\n",
    "    print('r2 score (train): ', r2_score(y_train, reg.predict(X_train)))\n",
    "\n",
    "    lim = max(max(pred), max(y_test))\n",
    "    \n",
    "    # plot\n",
    "    plt.figure(figsize=(6, 6))\n",
    "\n",
    "    plt.scatter(pred, y_test, marker='+', color='red')\n",
    "    plt.plot([0, lim], [0, lim], linewidth=1, color='blue')\n",
    "    plt.title('Linear regression: bikes_av')\n",
    "    plt.xlabel('prediction')\n",
    "    plt.ylabel('truth')\n",
    "    plt.xlim([0, lim])\n",
    "    plt.ylim([0, lim])\n",
    "    plt.grid()\n",
    "\n",
    "    plt.show()"
   ]
  },
  {
   "cell_type": "code",
   "execution_count": 95,
   "metadata": {},
   "outputs": [],
   "source": [
    "X = df[['lat', 'lon', 'altitude']]\n",
    "y = df['bikes_av']"
   ]
  },
  {
   "cell_type": "code",
   "execution_count": 96,
   "metadata": {},
   "outputs": [
    {
     "name": "stdout",
     "output_type": "stream",
     "text": [
      "Intercept: 2759.3535918873504\n",
      "Coefficients:\n",
      " [-7.12209939e+01  9.29410434e+01 -5.75482854e-02]\n",
      "Mean squared error:  18.39409775072902\n",
      "r2 score:  0.41874357960887676\n",
      "r2 score (train):  0.37574606191246007\n"
     ]
    },
    {
     "data": {
      "image/png": "[encoded data removed]",
      "text/plain": [
       "<Figure size 432x432 with 1 Axes>"
      ]
     },
     "metadata": {
      "needs_background": "light"
     },
     "output_type": "display_data"
    }
   ],
   "source": [
    "linreg(X, y)"
   ]
  },
  {
   "cell_type": "code",
   "execution_count": null,
   "metadata": {},
   "outputs": [],
   "source": []
  },
  {
   "cell_type": "code",
   "execution_count": null,
   "metadata": {},
   "outputs": [],
   "source": []
  },
  {
   "cell_type": "code",
   "execution_count": 98,
   "metadata": {},
   "outputs": [],
   "source": [
    "df['lat2'] = (df['lat'] - df['lat'].mean())**2\n",
    "df['lon2'] = (df['lon'] - df['lon'].mean())**2"
   ]
  },
  {
   "cell_type": "code",
   "execution_count": 99,
   "metadata": {},
   "outputs": [],
   "source": [
    "X = df[['lat2', 'lon2', 'altitude']]\n",
    "y = df['bikes_av']"
   ]
  },
  {
   "cell_type": "code",
   "execution_count": 100,
   "metadata": {},
   "outputs": [
    {
     "name": "stdout",
     "output_type": "stream",
     "text": [
      "Intercept: 14.545292674748445\n",
      "Coefficients:\n",
      " [ 1.00274675e+03  5.96110785e+02 -1.30797786e-01]\n",
      "Mean squared error:  24.11881696344354\n",
      "r2 score:  0.30095767960130204\n",
      "r2 score (train):  0.3701291812777584\n"
     ]
    },
    {
     "data": {
      "image/png": "[encoded data removed]",
      "text/plain": [
       "<Figure size 432x432 with 1 Axes>"
      ]
     },
     "metadata": {
      "needs_background": "light"
     },
     "output_type": "display_data"
    }
   ],
   "source": [
    "linreg(X, y)"
   ]
  },
  {
   "cell_type": "code",
   "execution_count": null,
   "metadata": {},
   "outputs": [],
   "source": []
  },
  {
   "cell_type": "code",
   "execution_count": null,
   "metadata": {},
   "outputs": [],
   "source": []
  },
  {
   "cell_type": "code",
   "execution_count": null,
   "metadata": {},
   "outputs": [],
   "source": []
  },
  {
   "cell_type": "code",
   "execution_count": 101,
   "metadata": {},
   "outputs": [],
   "source": [
    "X = df[['altitude']]\n",
    "y = df['bikes_av']"
   ]
  },
  {
   "cell_type": "code",
   "execution_count": 102,
   "metadata": {},
   "outputs": [
    {
     "name": "stdout",
     "output_type": "stream",
     "text": [
      "Intercept: 15.49239436302892\n",
      "Coefficients:\n",
      " [-0.13106383]\n",
      "Mean squared error:  20.31717239755324\n",
      "r2 score:  0.30655740411538457\n",
      "r2 score (train):  0.3419709720795505\n"
     ]
    },
    {
     "data": {
      "image/png": "[encoded data removed]",
      "text/plain": [
       "<Figure size 432x432 with 1 Axes>"
      ]
     },
     "metadata": {
      "needs_background": "light"
     },
     "output_type": "display_data"
    }
   ],
   "source": [
    "linreg(X, y)"
   ]
  },
  {
   "cell_type": "code",
   "execution_count": null,
   "metadata": {},
   "outputs": [],
   "source": []
  },
  {
   "cell_type": "code",
   "execution_count": null,
   "metadata": {},
   "outputs": [],
   "source": []
  },
  {
   "cell_type": "code",
   "execution_count": null,
   "metadata": {},
   "outputs": [],
   "source": []
  },
  {
   "cell_type": "code",
   "execution_count": null,
   "metadata": {},
   "outputs": [],
   "source": []
  },
  {
   "cell_type": "code",
   "execution_count": null,
   "metadata": {},
   "outputs": [],
   "source": []
  },
  {
   "cell_type": "code",
   "execution_count": null,
   "metadata": {},
   "outputs": [],
   "source": []
  },
  {
   "cell_type": "code",
   "execution_count": null,
   "metadata": {},
   "outputs": [],
   "source": []
  },
  {
   "cell_type": "code",
   "execution_count": null,
   "metadata": {},
   "outputs": [],
   "source": []
  },
  {
   "cell_type": "code",
   "execution_count": null,
   "metadata": {},
   "outputs": [],
   "source": []
  },
  {
   "cell_type": "code",
   "execution_count": null,
   "metadata": {},
   "outputs": [],
   "source": []
  },
  {
   "cell_type": "markdown",
   "metadata": {},
   "source": [
    "# OLD STUFF"
   ]
  },
  {
   "cell_type": "markdown",
   "metadata": {},
   "source": [
    "To start, I can take data from July 1st, which was a monday. To keep it simpler, I will take information of each hour interval."
   ]
  },
  {
   "cell_type": "code",
   "execution_count": 36,
   "metadata": {},
   "outputs": [],
   "source": [
    "ts_list = bicing_status['last_updated'].unique()\n",
    "chosen = []\n",
    "\n",
    "h = 0\n",
    "for ts in ts_list:\n",
    "    dt = datetime.fromtimestamp(ts)\n",
    "    if (dt.day == 1) & (dt.hour == h):\n",
    "        chosen.append(ts)\n",
    "        h += 1"
   ]
  },
  {
   "cell_type": "code",
   "execution_count": 37,
   "metadata": {},
   "outputs": [],
   "source": [
    "mask = bicing_status['last_updated'].isin(chosen)"
   ]
  },
  {
   "cell_type": "code",
   "execution_count": 38,
   "metadata": {},
   "outputs": [],
   "source": [
    "bicing_status = bicing_status[mask]"
   ]
  },
  {
   "cell_type": "code",
   "execution_count": 39,
   "metadata": {},
   "outputs": [
    {
     "name": "stdout",
     "output_type": "stream",
     "text": [
      "<class 'pandas.core.frame.DataFrame'>\n",
      "Int64Index: 9792 entries, 1 to 496\n",
      "Data columns (total 10 columns):\n",
      "bikes_av        9792 non-null int64\n",
      "mechbikes       9792 non-null int64\n",
      "ebikes          9792 non-null int64\n",
      "docks_av        9792 non-null int64\n",
      "is_inst         9792 non-null int64\n",
      "is_rent         9792 non-null int64\n",
      "is_retu         9792 non-null int64\n",
      "is_char         9792 non-null bool\n",
      "status          9792 non-null object\n",
      "last_updated    9792 non-null int64\n",
      "dtypes: bool(1), int64(8), object(1)\n",
      "memory usage: 774.6+ KB\n"
     ]
    }
   ],
   "source": [
    "bicing_status.info()"
   ]
  },
  {
   "cell_type": "code",
   "execution_count": null,
   "metadata": {},
   "outputs": [],
   "source": []
  },
  {
   "cell_type": "code",
   "execution_count": null,
   "metadata": {},
   "outputs": [],
   "source": []
  },
  {
   "cell_type": "code",
   "execution_count": null,
   "metadata": {},
   "outputs": [],
   "source": []
  },
  {
   "cell_type": "code",
   "execution_count": 56,
   "metadata": {},
   "outputs": [],
   "source": [
    "bicing_info = pd.read_csv('2019_07_Juliol_BicingNou_INFORMACIO.csv.part',\n",
    "                          usecols=['station_id', 'lat', 'lon', 'alt', 'capacity', 'last_updated'],\n",
    "                          index_col='station_id')\n",
    "#bicing_info = bicing_info[bicing_info['last_updated'] == max(bicing_info['last_updated'])]"
   ]
  },
  {
   "cell_type": "code",
   "execution_count": 59,
   "metadata": {},
   "outputs": [
    {
     "data": {
      "text/html": [
       "<div>\n",
       "<style scoped>\n",
       "    .dataframe tbody tr th:only-of-type {\n",
       "        vertical-align: middle;\n",
       "    }\n",
       "\n",
       "    .dataframe tbody tr th {\n",
       "        vertical-align: top;\n",
       "    }\n",
       "\n",
       "    .dataframe thead th {\n",
       "        text-align: right;\n",
       "    }\n",
       "</style>\n",
       "<table border=\"1\" class=\"dataframe\">\n",
       "  <thead>\n",
       "    <tr style=\"text-align: right;\">\n",
       "      <th></th>\n",
       "      <th>lat</th>\n",
       "      <th>lon</th>\n",
       "      <th>altitude</th>\n",
       "      <th>capacity</th>\n",
       "      <th>last_updated</th>\n",
       "    </tr>\n",
       "    <tr>\n",
       "      <th>station_id</th>\n",
       "      <th></th>\n",
       "      <th></th>\n",
       "      <th></th>\n",
       "      <th></th>\n",
       "      <th></th>\n",
       "    </tr>\n",
       "  </thead>\n",
       "  <tbody>\n",
       "    <tr>\n",
       "      <th>1</th>\n",
       "      <td>41.397952</td>\n",
       "      <td>2.180042</td>\n",
       "      <td>21.0</td>\n",
       "      <td>30</td>\n",
       "      <td>1564610090</td>\n",
       "    </tr>\n",
       "    <tr>\n",
       "      <th>2</th>\n",
       "      <td>41.395530</td>\n",
       "      <td>2.177060</td>\n",
       "      <td>21.0</td>\n",
       "      <td>27</td>\n",
       "      <td>1564610090</td>\n",
       "    </tr>\n",
       "    <tr>\n",
       "      <th>3</th>\n",
       "      <td>41.394055</td>\n",
       "      <td>2.181299</td>\n",
       "      <td>22.0</td>\n",
       "      <td>27</td>\n",
       "      <td>1564610090</td>\n",
       "    </tr>\n",
       "    <tr>\n",
       "      <th>4</th>\n",
       "      <td>41.393480</td>\n",
       "      <td>2.181555</td>\n",
       "      <td>21.0</td>\n",
       "      <td>20</td>\n",
       "      <td>1564610090</td>\n",
       "    </tr>\n",
       "    <tr>\n",
       "      <th>5</th>\n",
       "      <td>41.391075</td>\n",
       "      <td>2.180223</td>\n",
       "      <td>16.0</td>\n",
       "      <td>38</td>\n",
       "      <td>1564610090</td>\n",
       "    </tr>\n",
       "  </tbody>\n",
       "</table>\n",
       "</div>"
      ],
      "text/plain": [
       "                  lat       lon  altitude  capacity  last_updated\n",
       "station_id                                                       \n",
       "1           41.397952  2.180042      21.0        30    1564610090\n",
       "2           41.395530  2.177060      21.0        27    1564610090\n",
       "3           41.394055  2.181299      22.0        27    1564610090\n",
       "4           41.393480  2.181555      21.0        20    1564610090\n",
       "5           41.391075  2.180223      16.0        38    1564610090"
      ]
     },
     "execution_count": 59,
     "metadata": {},
     "output_type": "execute_result"
    }
   ],
   "source": [
    "bicing_info.head()"
   ]
  },
  {
   "cell_type": "code",
   "execution_count": 63,
   "metadata": {
    "scrolled": false
   },
   "outputs": [
    {
     "name": "stdout",
     "output_type": "stream",
     "text": [
      "bicing_esta:  2019-07-31 23:54:49\n",
      "bicing_info:  2019-07-31 23:54:50\n"
     ]
    }
   ],
   "source": [
    "print('bicing_status: ', datetime.fromtimestamp(1564610089))\n",
    "print('bicing_info: ', datetime.fromtimestamp(1564610090))"
   ]
  },
  {
   "cell_type": "markdown",
   "metadata": {},
   "source": [
    "Same time. Can be dropped too."
   ]
  },
  {
   "cell_type": "code",
   "execution_count": 64,
   "metadata": {},
   "outputs": [],
   "source": [
    "bicing_status = bicing_status.drop('last_updated', axis=1)\n",
    "bicing_info = bicing_info.drop('last_updated', axis=1)"
   ]
  },
  {
   "cell_type": "code",
   "execution_count": null,
   "metadata": {},
   "outputs": [],
   "source": []
  },
  {
   "cell_type": "code",
   "execution_count": null,
   "metadata": {},
   "outputs": [],
   "source": []
  },
  {
   "cell_type": "code",
   "execution_count": 75,
   "metadata": {},
   "outputs": [
    {
     "data": {
      "text/plain": [
       "False"
      ]
     },
     "execution_count": 75,
     "metadata": {},
     "output_type": "execute_result"
    }
   ],
   "source": [
    "x = bicing_status.index == bicing_info.index\n",
    "\n",
    "# if all values in x are True, then all values in ~x are False, hence the any function will return False:\n",
    "any(~x)"
   ]
  },
  {
   "cell_type": "code",
   "execution_count": null,
   "metadata": {},
   "outputs": [],
   "source": []
  },
  {
   "cell_type": "code",
   "execution_count": 77,
   "metadata": {},
   "outputs": [
    {
     "data": {
      "text/html": [
       "<div>\n",
       "<style scoped>\n",
       "    .dataframe tbody tr th:only-of-type {\n",
       "        vertical-align: middle;\n",
       "    }\n",
       "\n",
       "    .dataframe tbody tr th {\n",
       "        vertical-align: top;\n",
       "    }\n",
       "\n",
       "    .dataframe thead th {\n",
       "        text-align: right;\n",
       "    }\n",
       "</style>\n",
       "<table border=\"1\" class=\"dataframe\">\n",
       "  <thead>\n",
       "    <tr style=\"text-align: right;\">\n",
       "      <th></th>\n",
       "      <th>bikes_av</th>\n",
       "      <th>mechbikes</th>\n",
       "      <th>ebikes</th>\n",
       "      <th>docks_av</th>\n",
       "      <th>lat</th>\n",
       "      <th>lon</th>\n",
       "      <th>altitude</th>\n",
       "      <th>capacity</th>\n",
       "    </tr>\n",
       "    <tr>\n",
       "      <th>station_id</th>\n",
       "      <th></th>\n",
       "      <th></th>\n",
       "      <th></th>\n",
       "      <th></th>\n",
       "      <th></th>\n",
       "      <th></th>\n",
       "      <th></th>\n",
       "      <th></th>\n",
       "    </tr>\n",
       "  </thead>\n",
       "  <tbody>\n",
       "    <tr>\n",
       "      <th>1</th>\n",
       "      <td>21</td>\n",
       "      <td>21</td>\n",
       "      <td>0</td>\n",
       "      <td>8</td>\n",
       "      <td>41.397952</td>\n",
       "      <td>2.180042</td>\n",
       "      <td>21.0</td>\n",
       "      <td>30</td>\n",
       "    </tr>\n",
       "    <tr>\n",
       "      <th>2</th>\n",
       "      <td>3</td>\n",
       "      <td>3</td>\n",
       "      <td>0</td>\n",
       "      <td>24</td>\n",
       "      <td>41.395530</td>\n",
       "      <td>2.177060</td>\n",
       "      <td>21.0</td>\n",
       "      <td>27</td>\n",
       "    </tr>\n",
       "    <tr>\n",
       "      <th>3</th>\n",
       "      <td>22</td>\n",
       "      <td>22</td>\n",
       "      <td>0</td>\n",
       "      <td>4</td>\n",
       "      <td>41.394055</td>\n",
       "      <td>2.181299</td>\n",
       "      <td>22.0</td>\n",
       "      <td>27</td>\n",
       "    </tr>\n",
       "    <tr>\n",
       "      <th>4</th>\n",
       "      <td>7</td>\n",
       "      <td>7</td>\n",
       "      <td>0</td>\n",
       "      <td>13</td>\n",
       "      <td>41.393480</td>\n",
       "      <td>2.181555</td>\n",
       "      <td>21.0</td>\n",
       "      <td>20</td>\n",
       "    </tr>\n",
       "    <tr>\n",
       "      <th>5</th>\n",
       "      <td>30</td>\n",
       "      <td>29</td>\n",
       "      <td>1</td>\n",
       "      <td>4</td>\n",
       "      <td>41.391075</td>\n",
       "      <td>2.180223</td>\n",
       "      <td>16.0</td>\n",
       "      <td>38</td>\n",
       "    </tr>\n",
       "  </tbody>\n",
       "</table>\n",
       "</div>"
      ],
      "text/plain": [
       "            bikes_av  mechbikes  ebikes  docks_av        lat       lon  \\\n",
       "station_id                                                               \n",
       "1                 21         21       0         8  41.397952  2.180042   \n",
       "2                  3          3       0        24  41.395530  2.177060   \n",
       "3                 22         22       0         4  41.394055  2.181299   \n",
       "4                  7          7       0        13  41.393480  2.181555   \n",
       "5                 30         29       1         4  41.391075  2.180223   \n",
       "\n",
       "            altitude  capacity  \n",
       "station_id                      \n",
       "1               21.0        30  \n",
       "2               21.0        27  \n",
       "3               22.0        27  \n",
       "4               21.0        20  \n",
       "5               16.0        38  "
      ]
     },
     "execution_count": 77,
     "metadata": {},
     "output_type": "execute_result"
    }
   ],
   "source": [
    "bicing = pd.concat([bicing_status, bicing_info], axis=1)\n",
    "bicing.head()"
   ]
  },
  {
   "cell_type": "code",
   "execution_count": 80,
   "metadata": {},
   "outputs": [
    {
     "data": {
      "text/plain": [
       "True    407\n",
       "dtype: int64"
      ]
     },
     "execution_count": 80,
     "metadata": {},
     "output_type": "execute_result"
    }
   ],
   "source": [
    "x = bicing['capacity'] >= bicing['bikes_av'] + bicing['docks_av']\n",
    "x.value_counts()"
   ]
  },
  {
   "cell_type": "code",
   "execution_count": null,
   "metadata": {},
   "outputs": [],
   "source": []
  },
  {
   "cell_type": "code",
   "execution_count": null,
   "metadata": {},
   "outputs": [],
   "source": []
  },
  {
   "cell_type": "code",
   "execution_count": null,
   "metadata": {},
   "outputs": [],
   "source": []
  },
  {
   "cell_type": "markdown",
   "metadata": {},
   "source": [
    "According to https://www.bicing.barcelona/mapa-de-disponibilitat-provisional, there are 424 bicing stations. To study 407 of them is enough."
   ]
  },
  {
   "cell_type": "code",
   "execution_count": 70,
   "metadata": {},
   "outputs": [
    {
     "data": {
      "text/plain": [
       "14"
      ]
     },
     "execution_count": 70,
     "metadata": {},
     "output_type": "execute_result"
    }
   ],
   "source": [
    "min(bicing['capacity'])"
   ]
  },
  {
   "cell_type": "code",
   "execution_count": 71,
   "metadata": {},
   "outputs": [
    {
     "data": {
      "text/plain": [
       "54"
      ]
     },
     "execution_count": 71,
     "metadata": {},
     "output_type": "execute_result"
    }
   ],
   "source": [
    "max(bicing['capacity'])"
   ]
  },
  {
   "cell_type": "code",
   "execution_count": 81,
   "metadata": {},
   "outputs": [
    {
     "data": {
      "image/png": "[encoded data removed]",
      "text/plain": [
       "<Figure size 432x288 with 1 Axes>"
      ]
     },
     "metadata": {
      "needs_background": "light"
     },
     "output_type": "display_data"
    }
   ],
   "source": [
    "mask = bicing['capacity'] >= 40\n",
    "\n",
    "X = bicing[mask]['lon']\n",
    "Y = bicing[mask]['lat']\n",
    "x = bicing[~mask]['lon']\n",
    "y = bicing[~mask]['lat']\n",
    "\n",
    "plt.scatter(X, Y, color='red', marker='o')\n",
    "plt.scatter(x, y, color='blue', marker='+')\n",
    "plt.show()"
   ]
  },
  {
   "cell_type": "code",
   "execution_count": 82,
   "metadata": {},
   "outputs": [
    {
     "data": {
      "image/png": "[encoded data removed]",
      "text/plain": [
       "<Figure size 504x504 with 2 Axes>"
      ]
     },
     "metadata": {
      "needs_background": "light"
     },
     "output_type": "display_data"
    }
   ],
   "source": [
    "x = bicing['lon']\n",
    "y = bicing['lat']\n",
    "z = bicing['capacity']\n",
    "\n",
    "aspect = (max(y) - min(y))/(max(x) - min(x))\n",
    "\n",
    "fig = plt.figure(figsize=(7, 7))\n",
    "ax = fig.add_subplot(111)\n",
    "ax.set_aspect(aspect)\n",
    "\n",
    "plt.scatter(x, y, c=z, marker='o')\n",
    "plt.colorbar()\n",
    "plt.show()"
   ]
  },
  {
   "cell_type": "code",
   "execution_count": null,
   "metadata": {},
   "outputs": [],
   "source": []
  },
  {
   "cell_type": "code",
   "execution_count": null,
   "metadata": {},
   "outputs": [],
   "source": []
  },
  {
   "cell_type": "code",
   "execution_count": 84,
   "metadata": {},
   "outputs": [
    {
     "data": {
      "image/png": "[encoded data removed]",
      "text/plain": [
       "<Figure size 432x288 with 1 Axes>"
      ]
     },
     "metadata": {
      "needs_background": "light"
     },
     "output_type": "display_data"
    }
   ],
   "source": [
    "mask = bicing['docks_av'] >= 20\n",
    "\n",
    "X = bicing[mask]['lon']\n",
    "Y = bicing[mask]['lat']\n",
    "x = bicing[~mask]['lon']\n",
    "y = bicing[~mask]['lat']\n",
    "\n",
    "plt.scatter(X, Y, color='red', marker='o')\n",
    "plt.scatter(x, y, color='blue', marker='+')\n",
    "plt.show()"
   ]
  },
  {
   "cell_type": "code",
   "execution_count": 85,
   "metadata": {},
   "outputs": [
    {
     "data": {
      "image/png": "[encoded data removed]",
      "text/plain": [
       "<Figure size 504x504 with 2 Axes>"
      ]
     },
     "metadata": {
      "needs_background": "light"
     },
     "output_type": "display_data"
    }
   ],
   "source": [
    "x = bicing['lon']\n",
    "y = bicing['lat']\n",
    "z = bicing['docks_av']\n",
    "\n",
    "aspect = (max(y) - min(y))/(max(x) - min(x))\n",
    "\n",
    "fig = plt.figure(figsize=(7, 7))\n",
    "ax = fig.add_subplot(111)\n",
    "ax.set_aspect(aspect)\n",
    "\n",
    "plt.scatter(x, y, c=z, marker='o')\n",
    "plt.colorbar()\n",
    "plt.show()"
   ]
  },
  {
   "cell_type": "code",
   "execution_count": 86,
   "metadata": {},
   "outputs": [
    {
     "data": {
      "image/png": "[encoded data removed]",
      "text/plain": [
       "<Figure size 504x504 with 2 Axes>"
      ]
     },
     "metadata": {
      "needs_background": "light"
     },
     "output_type": "display_data"
    }
   ],
   "source": [
    "x = bicing['lon']\n",
    "y = bicing['lat']\n",
    "z = bicing['bikes_av']\n",
    "\n",
    "aspect = (max(y) - min(y))/(max(x) - min(x))\n",
    "\n",
    "fig = plt.figure(figsize=(7, 7))\n",
    "ax = fig.add_subplot(111)\n",
    "ax.set_aspect(aspect)\n",
    "\n",
    "plt.scatter(x, y, c=z, marker='o')\n",
    "plt.colorbar()\n",
    "plt.show()"
   ]
  },
  {
   "cell_type": "code",
   "execution_count": 89,
   "metadata": {},
   "outputs": [
    {
     "data": {
      "image/png": "[encoded data removed]",
      "text/plain": [
       "<Figure size 504x504 with 2 Axes>"
      ]
     },
     "metadata": {
      "needs_background": "light"
     },
     "output_type": "display_data"
    }
   ],
   "source": [
    "x = bicing['lon']\n",
    "y = bicing['lat']\n",
    "z = bicing['ebikes']\n",
    "\n",
    "aspect = (max(y) - min(y))/(max(x) - min(x))\n",
    "\n",
    "fig = plt.figure(figsize=(7, 7))\n",
    "ax = fig.add_subplot(111)\n",
    "ax.set_aspect(aspect)\n",
    "\n",
    "plt.scatter(x, y, c=z, marker='o')\n",
    "plt.colorbar()\n",
    "plt.show()"
   ]
  },
  {
   "cell_type": "code",
   "execution_count": 90,
   "metadata": {},
   "outputs": [
    {
     "data": {
      "image/png": "[encoded data removed]",
      "text/plain": [
       "<Figure size 504x504 with 2 Axes>"
      ]
     },
     "metadata": {
      "needs_background": "light"
     },
     "output_type": "display_data"
    }
   ],
   "source": [
    "x = bicing['lon']\n",
    "y = bicing['lat']\n",
    "z = bicing['altitude']\n",
    "\n",
    "aspect = (max(y) - min(y))/(max(x) - min(x))\n",
    "\n",
    "fig = plt.figure(figsize=(7, 7))\n",
    "ax = fig.add_subplot(111)\n",
    "ax.set_aspect(aspect)\n",
    "\n",
    "plt.scatter(x, y, c=z, marker='o')\n",
    "plt.colorbar()\n",
    "plt.show()"
   ]
  },
  {
   "cell_type": "code",
   "execution_count": null,
   "metadata": {},
   "outputs": [],
   "source": []
  },
  {
   "cell_type": "code",
   "execution_count": null,
   "metadata": {},
   "outputs": [],
   "source": []
  },
  {
   "cell_type": "code",
   "execution_count": null,
   "metadata": {},
   "outputs": [],
   "source": []
  },
  {
   "cell_type": "code",
   "execution_count": 83,
   "metadata": {},
   "outputs": [
    {
     "data": {
      "image/png": "[encoded data removed]",
      "text/plain": [
       "<Figure size 504x504 with 3 Axes>"
      ]
     },
     "metadata": {
      "needs_background": "light"
     },
     "output_type": "display_data"
    }
   ],
   "source": [
    "x = bicing['lon']\n",
    "y = bicing['lat']\n",
    "\n",
    "fig = plt.figure(figsize=(7, 7))\n",
    "gspec = gridspec.GridSpec(3, 3)\n",
    "\n",
    "histo = fig.add_subplot(gspec[1:, 0:-1])\n",
    "top_histo = fig.add_subplot(gspec[0, 0:-1])\n",
    "right_histo = fig.add_subplot(gspec[1:, -1])\n",
    "\n",
    "histo.hist2d(x, y, bins=20, cmap='Greys')\n",
    "histo.set_xlabel('Longitude (º)')\n",
    "histo.set_ylabel('Latitude (º)')\n",
    "histo.grid()\n",
    "\n",
    "top_histo.hist(x, bins=20, color='blue', edgecolor='black')\n",
    "top_histo.set_xlim([min(x), max(x)])\n",
    "top_histo.set_xticklabels([])\n",
    "top_histo.grid()\n",
    "\n",
    "right_histo.hist(y, bins=20, color='blue', edgecolor='black', orientation='horizontal')\n",
    "right_histo.set_ylim([min(y), max(y)])\n",
    "right_histo.set_yticklabels([])\n",
    "right_histo.grid()\n",
    "\n",
    "#histo.colorbar()\n",
    "plt.show()"
   ]
  },
  {
   "cell_type": "code",
   "execution_count": null,
   "metadata": {},
   "outputs": [],
   "source": []
  },
  {
   "cell_type": "code",
   "execution_count": null,
   "metadata": {},
   "outputs": [],
   "source": []
  },
  {
   "cell_type": "code",
   "execution_count": null,
   "metadata": {},
   "outputs": [],
   "source": []
  },
  {
   "cell_type": "code",
   "execution_count": null,
   "metadata": {},
   "outputs": [],
   "source": []
  },
  {
   "cell_type": "code",
   "execution_count": 14,
   "metadata": {},
   "outputs": [],
   "source": [
    "x = bicing['lon']\n",
    "y = bicing['lat']\n",
    "\n",
    "lonlat, xedg, yedg = np.histogram2d(x, y, bins=20)\n",
    "lonlat = lonlat.T"
   ]
  },
  {
   "cell_type": "code",
   "execution_count": 15,
   "metadata": {},
   "outputs": [
    {
     "data": {
      "image/png": "[encoded data removed]",
      "text/plain": [
       "<Figure size 504x504 with 2 Axes>"
      ]
     },
     "metadata": {
      "needs_background": "light"
     },
     "output_type": "display_data"
    }
   ],
   "source": [
    "extent = xedg[0], xedg[-1], yedg[0], yedg[-1]\n",
    "aspect = (xedg[-1] - xedg[0])/(yedg[-1] - yedg[0])\n",
    "\n",
    "plt.figure(figsize=(7, 7))\n",
    "plt.scatter([xedg[0], xedg[10], xedg[19]], [yedg[0], yedg[6], yedg[19]], color=['red', 'red', 'green'])\n",
    "plt.imshow(lonlat, origin='low', cmap='Greys', extent=extent, aspect=aspect)\n",
    "plt.colorbar()\n",
    "plt.show()"
   ]
  },
  {
   "cell_type": "code",
   "execution_count": 16,
   "metadata": {},
   "outputs": [
    {
     "data": {
      "text/plain": [
       "7.0"
      ]
     },
     "execution_count": 16,
     "metadata": {},
     "output_type": "execute_result"
    }
   ],
   "source": [
    "lonlat[6, 10]"
   ]
  },
  {
   "cell_type": "code",
   "execution_count": 17,
   "metadata": {},
   "outputs": [
    {
     "data": {
      "text/plain": [
       "7.0"
      ]
     },
     "execution_count": 17,
     "metadata": {},
     "output_type": "execute_result"
    }
   ],
   "source": [
    "lonlat[7, 12]"
   ]
  },
  {
   "cell_type": "code",
   "execution_count": null,
   "metadata": {},
   "outputs": [],
   "source": []
  },
  {
   "cell_type": "code",
   "execution_count": 18,
   "metadata": {},
   "outputs": [
    {
     "data": {
      "image/png": "[encoded data removed]",
      "text/plain": [
       "<Figure size 432x288 with 1 Axes>"
      ]
     },
     "metadata": {
      "needs_background": "light"
     },
     "output_type": "display_data"
    }
   ],
   "source": [
    "z = bicing['capacity']\n",
    "\n",
    "plt.xlim([min(z), max(z)])\n",
    "plt.hist(z, bins=20, color='blue', edgecolor='black')\n",
    "\n",
    "plt.grid()"
   ]
  },
  {
   "cell_type": "code",
   "execution_count": null,
   "metadata": {},
   "outputs": [],
   "source": []
  },
  {
   "cell_type": "code",
   "execution_count": null,
   "metadata": {},
   "outputs": [],
   "source": []
  },
  {
   "cell_type": "code",
   "execution_count": null,
   "metadata": {},
   "outputs": [],
   "source": []
  },
  {
   "cell_type": "code",
   "execution_count": null,
   "metadata": {},
   "outputs": [],
   "source": []
  },
  {
   "cell_type": "code",
   "execution_count": null,
   "metadata": {},
   "outputs": [],
   "source": []
  },
  {
   "cell_type": "code",
   "execution_count": null,
   "metadata": {},
   "outputs": [],
   "source": []
  },
  {
   "cell_type": "code",
   "execution_count": null,
   "metadata": {},
   "outputs": [],
   "source": []
  },
  {
   "cell_type": "code",
   "execution_count": null,
   "metadata": {},
   "outputs": [],
   "source": []
  },
  {
   "cell_type": "code",
   "execution_count": null,
   "metadata": {},
   "outputs": [],
   "source": []
  },
  {
   "cell_type": "code",
   "execution_count": null,
   "metadata": {},
   "outputs": [],
   "source": []
  },
  {
   "cell_type": "code",
   "execution_count": null,
   "metadata": {},
   "outputs": [],
   "source": []
  },
  {
   "cell_type": "code",
   "execution_count": null,
   "metadata": {},
   "outputs": [],
   "source": []
  },
  {
   "cell_type": "code",
   "execution_count": null,
   "metadata": {},
   "outputs": [],
   "source": []
  },
  {
   "cell_type": "code",
   "execution_count": null,
   "metadata": {},
   "outputs": [],
   "source": []
  }
 ],
 "metadata": {
  "kernelspec": {
   "display_name": "Python 3",
   "language": "python",
   "name": "python3"
  },
  "language_info": {
   "codemirror_mode": {
    "name": "ipython",
    "version": 3
   },
   "file_extension": ".py",
   "mimetype": "text/x-python",
   "name": "python",
   "nbconvert_exporter": "python",
   "pygments_lexer": "ipython3",
   "version": "3.7.3"
  }
 },
 "nbformat": 4,
 "nbformat_minor": 2
}
